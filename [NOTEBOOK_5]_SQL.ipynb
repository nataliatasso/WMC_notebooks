{
  "nbformat": 4,
  "nbformat_minor": 0,
  "metadata": {
    "colab": {
      "provenance": [],
      "authorship_tag": "ABX9TyNsJ21nlvRA2Nv82QwCsehB",
      "include_colab_link": true
    },
    "kernelspec": {
      "name": "python3",
      "display_name": "Python 3"
    },
    "language_info": {
      "name": "python"
    }
  },
  "cells": [
    {
      "cell_type": "markdown",
      "metadata": {
        "id": "view-in-github",
        "colab_type": "text"
      },
      "source": [
        "<a href=\"https://colab.research.google.com/github/nataliatasso/WMC_notebooks/blob/main/%5BNOTEBOOK_5%5D_SQL.ipynb\" target=\"_parent\"><img src=\"https://colab.research.google.com/assets/colab-badge.svg\" alt=\"Open In Colab\"/></a>"
      ]
    },
    {
      "cell_type": "markdown",
      "source": [
        "# Exercícios Banco de Dados"
      ],
      "metadata": {
        "id": "VnzYR74cnOiW"
      }
    },
    {
      "cell_type": "code",
      "source": [
        "import sqlite3"
      ],
      "metadata": {
        "id": "Z2YhBu0sowC5"
      },
      "execution_count": null,
      "outputs": []
    },
    {
      "cell_type": "code",
      "source": [
        "conexao = sqlite3.connect('banco.db')\n",
        "cursor = conexao.cursor()"
      ],
      "metadata": {
        "id": "btKUjs0qpBO2"
      },
      "execution_count": null,
      "outputs": []
    },
    {
      "cell_type": "markdown",
      "source": [
        "1. Crie uma tabela chamada \"alunos\" com os seguintes campos: id (inteiro), nome (texto), idade (inteiro) e curso (texto)."
      ],
      "metadata": {
        "id": "05gpE3fUnRKo"
      }
    },
    {
      "cell_type": "code",
      "execution_count": null,
      "metadata": {
        "colab": {
          "base_uri": "https://localhost:8080/"
        },
        "id": "ZrYs1cahnIb7",
        "outputId": "dd3cf1f5-bada-473f-e302-c29eecdbbcfa"
      },
      "outputs": [
        {
          "output_type": "execute_result",
          "data": {
            "text/plain": [
              "<sqlite3.Cursor at 0x7b4e5d0b4f40>"
            ]
          },
          "metadata": {},
          "execution_count": 3
        }
      ],
      "source": [
        "cursor.execute('CREATE TABLE alunos(id INT, nome VARCHAR(100), idade INT, curso VARCHAR(100));')"
      ]
    },
    {
      "cell_type": "markdown",
      "source": [
        "2. Insira pelo menos 5 registros de alunos na tabela que você criou no exercício anterior."
      ],
      "metadata": {
        "id": "fB-CQV4opett"
      }
    },
    {
      "cell_type": "code",
      "source": [
        "cursor.execute('INSERT INTO alunos(id, nome, idade, curso) VALUES (1, \"Natalia Tasso\", 30, \"Biologia\")')\n",
        "cursor.execute('INSERT INTO alunos(id, nome, idade, curso) VALUES (2, \"Rodrigo Luiz\", 31, \"Letras\")')\n",
        "cursor.execute('INSERT INTO alunos(id, nome, idade, curso) VALUES (3, \"Nicole Biggi\", 30, \"Engenharia\")')\n",
        "cursor.execute('INSERT INTO alunos(id, nome, idade, curso) VALUES (4, \"Catarina Freitas\", 31, \"Jornalismo\")')\n",
        "cursor.execute('INSERT INTO alunos(id, nome, idade, curso) VALUES (5, \"Eli Fidelis\", 30, \"Design\")')"
      ],
      "metadata": {
        "colab": {
          "base_uri": "https://localhost:8080/"
        },
        "id": "_swgnLgCpp3c",
        "outputId": "a386e3f3-5255-4f45-ab38-e9620a6b499e"
      },
      "execution_count": null,
      "outputs": [
        {
          "output_type": "execute_result",
          "data": {
            "text/plain": [
              "<sqlite3.Cursor at 0x7b4e5d0b4f40>"
            ]
          },
          "metadata": {},
          "execution_count": 4
        }
      ]
    },
    {
      "cell_type": "markdown",
      "source": [
        "3. Consultas Básicas - escreva consultas SQL para realizar as seguintes tarefas:\n"
      ],
      "metadata": {
        "id": "B0Ct2ZIKphi4"
      }
    },
    {
      "cell_type": "code",
      "source": [
        "# Consultas SQL\n",
        "\n",
        "# a) Selecionar todos os registros da tabela \"alunos\".\n",
        "df = cursor.execute('SELECT * FROM alunos')\n",
        "for alunos in df:\n",
        "    print(alunos)"
      ],
      "metadata": {
        "colab": {
          "base_uri": "https://localhost:8080/"
        },
        "id": "7OYEuDdvpkYU",
        "outputId": "81a2e780-44ca-423d-d9cb-d4eff86af5cb"
      },
      "execution_count": null,
      "outputs": [
        {
          "output_type": "stream",
          "name": "stdout",
          "text": [
            "(1, 'Natalia Tasso', 30, 'Biologia')\n",
            "(2, 'Rodrigo Luiz', 31, 'Letras')\n",
            "(3, 'Nicole Biggi', 30, 'Engenharia')\n",
            "(4, 'Catarina Freitas', 31, 'Jornalismo')\n",
            "(5, 'Eli Fidelis', 30, 'Design')\n"
          ]
        }
      ]
    },
    {
      "cell_type": "code",
      "source": [
        "# b) Selecionar o nome e a idade dos alunos com mais de 20 anos.\n",
        "df = cursor.execute('SELECT nome, idade FROM alunos WHERE idade > 20')\n",
        "for alunos in df:\n",
        "    print(alunos)"
      ],
      "metadata": {
        "colab": {
          "base_uri": "https://localhost:8080/"
        },
        "id": "DTyC-jZsrr5u",
        "outputId": "2a897740-c003-4079-c397-c3cb89257133"
      },
      "execution_count": null,
      "outputs": [
        {
          "output_type": "stream",
          "name": "stdout",
          "text": [
            "('Natalia Tasso', 30)\n",
            "('Rodrigo Luiz', 31)\n",
            "('Nicole Biggi', 30)\n",
            "('Catarina Freitas', 31)\n",
            "('Eli Fidelis', 30)\n"
          ]
        }
      ]
    },
    {
      "cell_type": "code",
      "source": [
        "# c) Selecionar os alunos do curso de \"Engenharia\" em ordem alfabética.\n",
        "df = cursor.execute('SELECT * FROM alunos WHERE curso = \"Engenharia\" ORDER BY nome ASC')\n",
        "for alunos in df:\n",
        "    print(alunos)"
      ],
      "metadata": {
        "id": "TpPJkh5trwIX",
        "colab": {
          "base_uri": "https://localhost:8080/"
        },
        "outputId": "92b38edf-d4f9-49c2-a1f8-1b33e9398329"
      },
      "execution_count": null,
      "outputs": [
        {
          "output_type": "stream",
          "name": "stdout",
          "text": [
            "(3, 'Nicole Biggi', 30, 'Engenharia')\n"
          ]
        }
      ]
    },
    {
      "cell_type": "code",
      "source": [
        "# d) Contar o número total de alunos na tabela\n",
        "df = cursor.execute('SELECT COUNT (*) FROM alunos')\n",
        "for alunos in df:\n",
        "    print(alunos)"
      ],
      "metadata": {
        "colab": {
          "base_uri": "https://localhost:8080/"
        },
        "id": "gngFMh5juKal",
        "outputId": "628be05a-8c02-41bd-f5da-ebf49c6018b7"
      },
      "execution_count": null,
      "outputs": [
        {
          "output_type": "stream",
          "name": "stdout",
          "text": [
            "(5,)\n"
          ]
        }
      ]
    },
    {
      "cell_type": "markdown",
      "source": [
        "4. Atualização e Remoção\n"
      ],
      "metadata": {
        "id": "F47hK41kutnV"
      }
    },
    {
      "cell_type": "code",
      "source": [
        "# a) Atualize a idade de um aluno específico na tabela.\n",
        "cursor.execute('UPDATE alunos SET idade = 31 WHERE nome = \"Natalia Tasso\"')\n",
        "df = cursor.execute('SELECT * FROM alunos')\n",
        "for alunos in df:\n",
        "    print(alunos)"
      ],
      "metadata": {
        "colab": {
          "base_uri": "https://localhost:8080/"
        },
        "id": "KRHj0LBOuzKO",
        "outputId": "f0fb3a93-0868-4b9e-ed55-44f21d249000"
      },
      "execution_count": null,
      "outputs": [
        {
          "output_type": "stream",
          "name": "stdout",
          "text": [
            "(1, 'Natalia Tasso', 31, 'Biologia')\n",
            "(2, 'Rodrigo Luiz', 31, 'Letras')\n",
            "(3, 'Nicole Biggi', 30, 'Engenharia')\n",
            "(4, 'Catarina Freitas', 31, 'Jornalismo')\n",
            "(5, 'Eli Fidelis', 30, 'Design')\n"
          ]
        }
      ]
    },
    {
      "cell_type": "code",
      "source": [
        "# b) Remova um aluno pelo seu ID.\n",
        "cursor.execute('DELETE FROM alunos WHERE id = 5')\n",
        "df = cursor.execute('SELECT * FROM alunos')\n",
        "for alunos in df:\n",
        "    print(alunos)"
      ],
      "metadata": {
        "colab": {
          "base_uri": "https://localhost:8080/"
        },
        "id": "vM4pnI-nvG5A",
        "outputId": "2d3abaec-17ca-40b7-9059-3d42e2fdf5d7"
      },
      "execution_count": null,
      "outputs": [
        {
          "output_type": "stream",
          "name": "stdout",
          "text": [
            "(1, 'Natalia Tasso', 31, 'Biologia')\n",
            "(2, 'Rodrigo Luiz', 31, 'Letras')\n",
            "(3, 'Nicole Biggi', 30, 'Engenharia')\n",
            "(4, 'Catarina Freitas', 31, 'Jornalismo')\n"
          ]
        }
      ]
    },
    {
      "cell_type": "markdown",
      "source": [
        "5. Criar uma Tabela e Inserir Dados: crie uma tabela chamada \"clientes\" com os campos: id (chave primária), nome (texto), idade (inteiro) e saldo (float). Insira alguns registros de clientes na tabela."
      ],
      "metadata": {
        "id": "DbOd_PCMvjrv"
      }
    },
    {
      "cell_type": "code",
      "source": [
        "cursor.execute('CREATE TABLE clientes(id INT PRIMARY KEY, nome VARCHAR(100), idade INT, saldo FLOAT);')"
      ],
      "metadata": {
        "colab": {
          "base_uri": "https://localhost:8080/"
        },
        "id": "cE5MrTzqvnZ8",
        "outputId": "9b854cdf-91b5-4e3d-b5b3-75b726e0fc66"
      },
      "execution_count": null,
      "outputs": [
        {
          "output_type": "execute_result",
          "data": {
            "text/plain": [
              "<sqlite3.Cursor at 0x7b4e5d0b4f40>"
            ]
          },
          "metadata": {},
          "execution_count": 11
        }
      ]
    },
    {
      "cell_type": "code",
      "source": [
        "cursor.execute('INSERT INTO clientes(id, nome, idade, saldo) VALUES (1, \"Natalia Tasso\", 31, 1840)')\n",
        "cursor.execute('INSERT INTO clientes(id, nome, idade, saldo) VALUES (2, \"Rodrigo Luiz\", 31, 1022)')\n",
        "cursor.execute('INSERT INTO clientes(id, nome, idade, saldo) VALUES (3, \"Nicole Biggi\", 30, 998)')\n",
        "cursor.execute('INSERT INTO clientes(id, nome, idade, saldo) VALUES (4, \"Catarina Freitas\", 31, 1540)')\n",
        "cursor.execute('INSERT INTO clientes(id, nome, idade, saldo) VALUES (5, \"Eli Fidelis\", 30, 1823)')"
      ],
      "metadata": {
        "colab": {
          "base_uri": "https://localhost:8080/"
        },
        "id": "gahHzZvYv1bJ",
        "outputId": "216c2dbf-4819-4ab2-ea12-a478070493c0"
      },
      "execution_count": null,
      "outputs": [
        {
          "output_type": "execute_result",
          "data": {
            "text/plain": [
              "<sqlite3.Cursor at 0x7b4e5d0b4f40>"
            ]
          },
          "metadata": {},
          "execution_count": 12
        }
      ]
    },
    {
      "cell_type": "code",
      "source": [
        "df = cursor.execute('SELECT * FROM clientes')\n",
        "for clientes in df:\n",
        "    print(clientes)"
      ],
      "metadata": {
        "colab": {
          "base_uri": "https://localhost:8080/"
        },
        "id": "ANhIfAjqwwqb",
        "outputId": "b7aa5d37-0ee2-4412-b647-f007534dab24"
      },
      "execution_count": null,
      "outputs": [
        {
          "output_type": "stream",
          "name": "stdout",
          "text": [
            "(1, 'Natalia Tasso', 31, 1840.0)\n",
            "(2, 'Rodrigo Luiz', 31, 1022.0)\n",
            "(3, 'Nicole Biggi', 30, 998.0)\n",
            "(4, 'Catarina Freitas', 31, 1540.0)\n",
            "(5, 'Eli Fidelis', 30, 1823.0)\n"
          ]
        }
      ]
    },
    {
      "cell_type": "markdown",
      "source": [
        "6. Consultas e Funções Agregadas - Escreva consultas SQL para realizar as seguintes tarefas:"
      ],
      "metadata": {
        "id": "wSGoAXbrxAS8"
      }
    },
    {
      "cell_type": "code",
      "source": [
        "# a) Selecione o nome e a idade dos clientes com idade superior a 30 anos.\n",
        "df = cursor.execute('SELECT nome, idade FROM clientes WHERE idade > 30')\n",
        "for clientes in df:\n",
        "    print(clientes)"
      ],
      "metadata": {
        "colab": {
          "base_uri": "https://localhost:8080/"
        },
        "id": "vfKY_MqcxD_U",
        "outputId": "d19378de-2c40-4707-906a-6ea0c33fc0e8"
      },
      "execution_count": null,
      "outputs": [
        {
          "output_type": "stream",
          "name": "stdout",
          "text": [
            "('Natalia Tasso', 31)\n",
            "('Rodrigo Luiz', 31)\n",
            "('Catarina Freitas', 31)\n"
          ]
        }
      ]
    },
    {
      "cell_type": "code",
      "source": [
        "# b) Calcule o saldo médio dos clientes.\n",
        "df = cursor.execute('SELECT AVG (saldo) FROM clientes')\n",
        "\n",
        "for clientes in df:\n",
        "    saldo_medio = clientes[0]  # O resultado vem como uma tupla, onde o saldo médio está no primeiro elemento\n",
        "\n",
        "print(f\"O saldo médio dos clientes é de {saldo_medio:.2f} reais.\")"
      ],
      "metadata": {
        "colab": {
          "base_uri": "https://localhost:8080/"
        },
        "id": "-cX5cPTQxGc_",
        "outputId": "495a979e-89b5-432b-f14f-b49a36534ae3"
      },
      "execution_count": null,
      "outputs": [
        {
          "output_type": "stream",
          "name": "stdout",
          "text": [
            "O saldo médio dos clientes é de 1444.60 reais.\n"
          ]
        }
      ]
    },
    {
      "cell_type": "code",
      "source": [
        "# c) Encontre o cliente com o saldo máximo.\n",
        "df = cursor.execute('SELECT nome, saldo FROM clientes ORDER BY saldo DESC LIMIT 1')\n",
        "\n",
        "for clientes in df:\n",
        "   nome = clientes[0]\n",
        "   saldo_max = clientes[1]\n",
        "\n",
        "print(f\"O cliente com saldo máximo é {nome}, com {saldo_max:.2f} reais.\")"
      ],
      "metadata": {
        "colab": {
          "base_uri": "https://localhost:8080/"
        },
        "id": "coDAduBBxIlG",
        "outputId": "c33568b7-2cdd-4edf-bd8b-2c40814637ff"
      },
      "execution_count": null,
      "outputs": [
        {
          "output_type": "stream",
          "name": "stdout",
          "text": [
            "O cliente com saldo máximo é Natalia Tasso, com 1840.00 reais.\n"
          ]
        }
      ]
    },
    {
      "cell_type": "code",
      "source": [
        "# d) Conte quantos clientes têm saldo acima de 1000.\n",
        "df = cursor.execute('SELECT COUNT (*) FROM clientes WHERE saldo > 1000')\n",
        "\n",
        "for clientes in df:\n",
        "    saldo_mil = clientes[0]\n",
        "\n",
        "print(f\"Um total de {saldo_mil} clientes possui saldo superior a 1000 reais.\")"
      ],
      "metadata": {
        "colab": {
          "base_uri": "https://localhost:8080/"
        },
        "id": "pfUdUX2zxKYk",
        "outputId": "6bfef5b8-da40-4ce1-f88d-9ab6f54e4215"
      },
      "execution_count": null,
      "outputs": [
        {
          "output_type": "stream",
          "name": "stdout",
          "text": [
            "Um total de 4 clientes possui saldo superior a 1000 reais.\n"
          ]
        }
      ]
    },
    {
      "cell_type": "markdown",
      "source": [
        "7. Atualização e Remoção com Condições."
      ],
      "metadata": {
        "id": "8-Hx0DqByKfo"
      }
    },
    {
      "cell_type": "code",
      "source": [
        "# a) Atualize o saldo de um cliente específico.\n",
        "cursor.execute('UPDATE clientes SET saldo = 950 WHERE nome = \"Nicole Biggi\"')\n",
        "df = cursor.execute('SELECT * FROM clientes')\n",
        "for clientes in df:\n",
        "    print(clientes)"
      ],
      "metadata": {
        "colab": {
          "base_uri": "https://localhost:8080/"
        },
        "id": "4NkjaQgPyMwL",
        "outputId": "48836602-1b7e-44a9-b44c-77ef4a7d71ec"
      },
      "execution_count": null,
      "outputs": [
        {
          "output_type": "stream",
          "name": "stdout",
          "text": [
            "(1, 'Natalia Tasso', 31, 1840.0)\n",
            "(2, 'Rodrigo Luiz', 31, 1022.0)\n",
            "(3, 'Nicole Biggi', 30, 950.0)\n",
            "(4, 'Catarina Freitas', 31, 1540.0)\n",
            "(5, 'Eli Fidelis', 30, 1823.0)\n"
          ]
        }
      ]
    },
    {
      "cell_type": "code",
      "source": [
        "# b) Remova um cliente pelo seu ID.\n",
        "cursor.execute('DELETE FROM clientes WHERE id = 5')\n",
        "df = cursor.execute('SELECT * FROM clientes')\n",
        "for clientes in df:\n",
        "    print(clientes)"
      ],
      "metadata": {
        "colab": {
          "base_uri": "https://localhost:8080/"
        },
        "id": "dSAEVDwwyM-V",
        "outputId": "abcae777-43e6-4fb4-b54c-004d9f0f0426"
      },
      "execution_count": null,
      "outputs": [
        {
          "output_type": "stream",
          "name": "stdout",
          "text": [
            "(1, 'Natalia Tasso', 31, 1840.0)\n",
            "(2, 'Rodrigo Luiz', 31, 1022.0)\n",
            "(3, 'Nicole Biggi', 30, 950.0)\n",
            "(4, 'Catarina Freitas', 31, 1540.0)\n"
          ]
        }
      ]
    },
    {
      "cell_type": "markdown",
      "source": [
        "8. Junção de Tabelas: crie uma segunda tabela chamada \"compras\" com os campos: id (chave primária), cliente_id (chave estrangeira referenciando o id da tabela \"clientes\"), produto (texto) e valor (real). Insira algumas compras associadas a clientes existentes na tabela \"clientes\". Escreva uma consulta para exibir o nome do cliente, o produto e o valor de cada compra."
      ],
      "metadata": {
        "id": "_8hcLlUF164k"
      }
    },
    {
      "cell_type": "code",
      "source": [
        "# Criando a tabela\n",
        "\n",
        "cursor.execute('CREATE TABLE compras(id INT PRIMARY KEY, cliente_id INT, produto VARCHAR(100), valor FLOAT, FOREIGN KEY (cliente_id) REFERENCES clientes (id));')"
      ],
      "metadata": {
        "id": "CeAgs0zH2Bc-",
        "colab": {
          "base_uri": "https://localhost:8080/"
        },
        "outputId": "0ec7223f-c8fd-409c-909c-2fc117393f31"
      },
      "execution_count": null,
      "outputs": [
        {
          "output_type": "execute_result",
          "data": {
            "text/plain": [
              "<sqlite3.Cursor at 0x7b4e5d0b4f40>"
            ]
          },
          "metadata": {},
          "execution_count": 20
        }
      ]
    },
    {
      "cell_type": "code",
      "source": [
        "# Inserir dados na tabela\n",
        "\n",
        "cursor.execute('INSERT INTO compras(cliente_id, produto, valor) VALUES (1, \"Jaqueta\", 200)')\n",
        "cursor.execute('INSERT INTO compras(cliente_id, produto, valor) VALUES (2, \"Blusa\", 80)')\n",
        "cursor.execute('INSERT INTO compras(cliente_id, produto, valor) VALUES (3, \"Vestido\", 150)')\n",
        "cursor.execute('INSERT INTO compras(cliente_id, produto, valor) VALUES (4, \"Short\", 90)')"
      ],
      "metadata": {
        "colab": {
          "base_uri": "https://localhost:8080/"
        },
        "id": "BUI_DvfX3BeX",
        "outputId": "0883dbb7-00a9-430f-f0cb-8afb772107ff"
      },
      "execution_count": null,
      "outputs": [
        {
          "output_type": "execute_result",
          "data": {
            "text/plain": [
              "<sqlite3.Cursor at 0x7b4e5d0b4f40>"
            ]
          },
          "metadata": {},
          "execution_count": 21
        }
      ]
    },
    {
      "cell_type": "code",
      "source": [
        "df = cursor.execute('SELECT * FROM compras')\n",
        "for compras in df:\n",
        "    print(compras)"
      ],
      "metadata": {
        "colab": {
          "base_uri": "https://localhost:8080/"
        },
        "id": "T2I7mx8-4NeI",
        "outputId": "125ccb69-cf73-4425-e1d3-b5d136245a9c"
      },
      "execution_count": null,
      "outputs": [
        {
          "output_type": "stream",
          "name": "stdout",
          "text": [
            "(None, 1, 'Jaqueta', 200.0)\n",
            "(None, 2, 'Blusa', 80.0)\n",
            "(None, 3, 'Vestido', 150.0)\n",
            "(None, 4, 'Short', 90.0)\n"
          ]
        }
      ]
    },
    {
      "cell_type": "code",
      "source": [
        "# Criando uma nova tabela utilizando o Inner Join com base nas chaves\n",
        "\n",
        "cursor.execute('''\n",
        "    CREATE TABLE clientes_compras AS\n",
        "    SELECT clientes.nome, compras.produto, compras.valor\n",
        "    FROM compras\n",
        "    INNER JOIN clientes ON compras.cliente_id = clientes.id;\n",
        "''')"
      ],
      "metadata": {
        "id": "p08uL1LK4dpe",
        "colab": {
          "base_uri": "https://localhost:8080/"
        },
        "outputId": "75772ea9-eae9-416a-eb58-b8e8c7fdcb22"
      },
      "execution_count": null,
      "outputs": [
        {
          "output_type": "execute_result",
          "data": {
            "text/plain": [
              "<sqlite3.Cursor at 0x7b4e5d0b4f40>"
            ]
          },
          "metadata": {},
          "execution_count": 23
        }
      ]
    },
    {
      "cell_type": "code",
      "source": [
        "df = cursor.execute('SELECT * FROM clientes_compras')\n",
        "for linha in df:\n",
        "    print(linha)"
      ],
      "metadata": {
        "colab": {
          "base_uri": "https://localhost:8080/"
        },
        "id": "riGEOupUAux2",
        "outputId": "d9239556-555b-4790-9e3d-b90c7c5e1629"
      },
      "execution_count": null,
      "outputs": [
        {
          "output_type": "stream",
          "name": "stdout",
          "text": [
            "('Natalia Tasso', 'Jaqueta', 200.0)\n",
            "('Rodrigo Luiz', 'Blusa', 80.0)\n",
            "('Nicole Biggi', 'Vestido', 150.0)\n",
            "('Catarina Freitas', 'Short', 90.0)\n"
          ]
        }
      ]
    }
  ]
}