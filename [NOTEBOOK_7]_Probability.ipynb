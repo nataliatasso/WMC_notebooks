{
  "nbformat": 4,
  "nbformat_minor": 0,
  "metadata": {
    "colab": {
      "provenance": [],
      "authorship_tag": "ABX9TyMyd65vEQ0idflfnYUl76oW",
      "include_colab_link": true
    },
    "kernelspec": {
      "name": "python3",
      "display_name": "Python 3"
    },
    "language_info": {
      "name": "python"
    }
  },
  "cells": [
    {
      "cell_type": "markdown",
      "metadata": {
        "id": "view-in-github",
        "colab_type": "text"
      },
      "source": [
        "<a href=\"https://colab.research.google.com/github/nataliatasso/WMC_notebooks/blob/main/%5BNOTEBOOK_7%5D_Probability.ipynb\" target=\"_parent\"><img src=\"https://colab.research.google.com/assets/colab-badge.svg\" alt=\"Open In Colab\"/></a>"
      ]
    },
    {
      "cell_type": "markdown",
      "source": [
        "# Estatística- Probabilidade e Amostragem Desafio Final\n",
        "\n",
        "## Considerando a base de dados de populacao_brasileira.json responda as questões abaixo (os dados são fictícios).\n",
        "\n",
        "### Você é uma pesquisadora desenvolvendo uma análise sobre as características da força de trabalho nos estados brasileiros. Responda as perguntas abaixo:"
      ],
      "metadata": {
        "id": "r0UlPtOCrGm-"
      }
    },
    {
      "cell_type": "code",
      "execution_count": null,
      "metadata": {
        "id": "vVxtbSm-qufJ"
      },
      "outputs": [],
      "source": [
        "import pandas as pd\n",
        "import numpy as np\n",
        "import matplotlib.pyplot as plt\n",
        "import seaborn as sns\n",
        "import scipy.stats as stat\n",
        "from scipy.stats import geom\n",
        "from scipy.stats import norm\n",
        "from scipy import stats"
      ]
    },
    {
      "cell_type": "code",
      "source": [
        "df_populacao_br = pd.read_csv('populacao_brasileira.csv', index_col = 0)\n",
        "df_populacao_br.columns"
      ],
      "metadata": {
        "id": "1ymWljkSrxFh",
        "colab": {
          "base_uri": "https://localhost:8080/"
        },
        "outputId": "97ac5f14-45ee-4f6c-d7dc-72bcd3539902"
      },
      "execution_count": null,
      "outputs": [
        {
          "output_type": "execute_result",
          "data": {
            "text/plain": [
              "Index(['estado', 'idade', 'escolaridade', 'nível de proficiência em inglês',\n",
              "       'renda', 'sexo'],\n",
              "      dtype='object')"
            ]
          },
          "metadata": {},
          "execution_count": 5
        }
      ]
    },
    {
      "cell_type": "code",
      "source": [
        "df_populacao_br.head()"
      ],
      "metadata": {
        "colab": {
          "base_uri": "https://localhost:8080/",
          "height": 206
        },
        "id": "qU-TwTQ-UO5Y",
        "outputId": "66840a67-f069-4d66-b3e1-18a44723af09"
      },
      "execution_count": null,
      "outputs": [
        {
          "output_type": "execute_result",
          "data": {
            "text/plain": [
              "  estado  idade escolaridade nível de proficiência em inglês    renda sexo\n",
              "0     MA     56  Fundamental                   Intermediário  4006.29    F\n",
              "1     BA     46     Superior                          Básico  2423.11    M\n",
              "2     AM     32  Fundamental                   Intermediário  3835.69    M\n",
              "3     CE     60     Superior                          Básico  1870.29    M\n",
              "4     SE     25  Fundamental                        Avançado  3529.80    M"
            ],
            "text/html": [
              "\n",
              "  <div id=\"df-6aa458ff-71d2-4bee-9efa-998cbfb56083\" class=\"colab-df-container\">\n",
              "    <div>\n",
              "<style scoped>\n",
              "    .dataframe tbody tr th:only-of-type {\n",
              "        vertical-align: middle;\n",
              "    }\n",
              "\n",
              "    .dataframe tbody tr th {\n",
              "        vertical-align: top;\n",
              "    }\n",
              "\n",
              "    .dataframe thead th {\n",
              "        text-align: right;\n",
              "    }\n",
              "</style>\n",
              "<table border=\"1\" class=\"dataframe\">\n",
              "  <thead>\n",
              "    <tr style=\"text-align: right;\">\n",
              "      <th></th>\n",
              "      <th>estado</th>\n",
              "      <th>idade</th>\n",
              "      <th>escolaridade</th>\n",
              "      <th>nível de proficiência em inglês</th>\n",
              "      <th>renda</th>\n",
              "      <th>sexo</th>\n",
              "    </tr>\n",
              "  </thead>\n",
              "  <tbody>\n",
              "    <tr>\n",
              "      <th>0</th>\n",
              "      <td>MA</td>\n",
              "      <td>56</td>\n",
              "      <td>Fundamental</td>\n",
              "      <td>Intermediário</td>\n",
              "      <td>4006.29</td>\n",
              "      <td>F</td>\n",
              "    </tr>\n",
              "    <tr>\n",
              "      <th>1</th>\n",
              "      <td>BA</td>\n",
              "      <td>46</td>\n",
              "      <td>Superior</td>\n",
              "      <td>Básico</td>\n",
              "      <td>2423.11</td>\n",
              "      <td>M</td>\n",
              "    </tr>\n",
              "    <tr>\n",
              "      <th>2</th>\n",
              "      <td>AM</td>\n",
              "      <td>32</td>\n",
              "      <td>Fundamental</td>\n",
              "      <td>Intermediário</td>\n",
              "      <td>3835.69</td>\n",
              "      <td>M</td>\n",
              "    </tr>\n",
              "    <tr>\n",
              "      <th>3</th>\n",
              "      <td>CE</td>\n",
              "      <td>60</td>\n",
              "      <td>Superior</td>\n",
              "      <td>Básico</td>\n",
              "      <td>1870.29</td>\n",
              "      <td>M</td>\n",
              "    </tr>\n",
              "    <tr>\n",
              "      <th>4</th>\n",
              "      <td>SE</td>\n",
              "      <td>25</td>\n",
              "      <td>Fundamental</td>\n",
              "      <td>Avançado</td>\n",
              "      <td>3529.80</td>\n",
              "      <td>M</td>\n",
              "    </tr>\n",
              "  </tbody>\n",
              "</table>\n",
              "</div>\n",
              "    <div class=\"colab-df-buttons\">\n",
              "\n",
              "  <div class=\"colab-df-container\">\n",
              "    <button class=\"colab-df-convert\" onclick=\"convertToInteractive('df-6aa458ff-71d2-4bee-9efa-998cbfb56083')\"\n",
              "            title=\"Convert this dataframe to an interactive table.\"\n",
              "            style=\"display:none;\">\n",
              "\n",
              "  <svg xmlns=\"http://www.w3.org/2000/svg\" height=\"24px\" viewBox=\"0 -960 960 960\">\n",
              "    <path d=\"M120-120v-720h720v720H120Zm60-500h600v-160H180v160Zm220 220h160v-160H400v160Zm0 220h160v-160H400v160ZM180-400h160v-160H180v160Zm440 0h160v-160H620v160ZM180-180h160v-160H180v160Zm440 0h160v-160H620v160Z\"/>\n",
              "  </svg>\n",
              "    </button>\n",
              "\n",
              "  <style>\n",
              "    .colab-df-container {\n",
              "      display:flex;\n",
              "      gap: 12px;\n",
              "    }\n",
              "\n",
              "    .colab-df-convert {\n",
              "      background-color: #E8F0FE;\n",
              "      border: none;\n",
              "      border-radius: 50%;\n",
              "      cursor: pointer;\n",
              "      display: none;\n",
              "      fill: #1967D2;\n",
              "      height: 32px;\n",
              "      padding: 0 0 0 0;\n",
              "      width: 32px;\n",
              "    }\n",
              "\n",
              "    .colab-df-convert:hover {\n",
              "      background-color: #E2EBFA;\n",
              "      box-shadow: 0px 1px 2px rgba(60, 64, 67, 0.3), 0px 1px 3px 1px rgba(60, 64, 67, 0.15);\n",
              "      fill: #174EA6;\n",
              "    }\n",
              "\n",
              "    .colab-df-buttons div {\n",
              "      margin-bottom: 4px;\n",
              "    }\n",
              "\n",
              "    [theme=dark] .colab-df-convert {\n",
              "      background-color: #3B4455;\n",
              "      fill: #D2E3FC;\n",
              "    }\n",
              "\n",
              "    [theme=dark] .colab-df-convert:hover {\n",
              "      background-color: #434B5C;\n",
              "      box-shadow: 0px 1px 3px 1px rgba(0, 0, 0, 0.15);\n",
              "      filter: drop-shadow(0px 1px 2px rgba(0, 0, 0, 0.3));\n",
              "      fill: #FFFFFF;\n",
              "    }\n",
              "  </style>\n",
              "\n",
              "    <script>\n",
              "      const buttonEl =\n",
              "        document.querySelector('#df-6aa458ff-71d2-4bee-9efa-998cbfb56083 button.colab-df-convert');\n",
              "      buttonEl.style.display =\n",
              "        google.colab.kernel.accessAllowed ? 'block' : 'none';\n",
              "\n",
              "      async function convertToInteractive(key) {\n",
              "        const element = document.querySelector('#df-6aa458ff-71d2-4bee-9efa-998cbfb56083');\n",
              "        const dataTable =\n",
              "          await google.colab.kernel.invokeFunction('convertToInteractive',\n",
              "                                                    [key], {});\n",
              "        if (!dataTable) return;\n",
              "\n",
              "        const docLinkHtml = 'Like what you see? Visit the ' +\n",
              "          '<a target=\"_blank\" href=https://colab.research.google.com/notebooks/data_table.ipynb>data table notebook</a>'\n",
              "          + ' to learn more about interactive tables.';\n",
              "        element.innerHTML = '';\n",
              "        dataTable['output_type'] = 'display_data';\n",
              "        await google.colab.output.renderOutput(dataTable, element);\n",
              "        const docLink = document.createElement('div');\n",
              "        docLink.innerHTML = docLinkHtml;\n",
              "        element.appendChild(docLink);\n",
              "      }\n",
              "    </script>\n",
              "  </div>\n",
              "\n",
              "\n",
              "<div id=\"df-bf49fb82-45d9-4084-bb64-07d4259b8063\">\n",
              "  <button class=\"colab-df-quickchart\" onclick=\"quickchart('df-bf49fb82-45d9-4084-bb64-07d4259b8063')\"\n",
              "            title=\"Suggest charts\"\n",
              "            style=\"display:none;\">\n",
              "\n",
              "<svg xmlns=\"http://www.w3.org/2000/svg\" height=\"24px\"viewBox=\"0 0 24 24\"\n",
              "     width=\"24px\">\n",
              "    <g>\n",
              "        <path d=\"M19 3H5c-1.1 0-2 .9-2 2v14c0 1.1.9 2 2 2h14c1.1 0 2-.9 2-2V5c0-1.1-.9-2-2-2zM9 17H7v-7h2v7zm4 0h-2V7h2v10zm4 0h-2v-4h2v4z\"/>\n",
              "    </g>\n",
              "</svg>\n",
              "  </button>\n",
              "\n",
              "<style>\n",
              "  .colab-df-quickchart {\n",
              "      --bg-color: #E8F0FE;\n",
              "      --fill-color: #1967D2;\n",
              "      --hover-bg-color: #E2EBFA;\n",
              "      --hover-fill-color: #174EA6;\n",
              "      --disabled-fill-color: #AAA;\n",
              "      --disabled-bg-color: #DDD;\n",
              "  }\n",
              "\n",
              "  [theme=dark] .colab-df-quickchart {\n",
              "      --bg-color: #3B4455;\n",
              "      --fill-color: #D2E3FC;\n",
              "      --hover-bg-color: #434B5C;\n",
              "      --hover-fill-color: #FFFFFF;\n",
              "      --disabled-bg-color: #3B4455;\n",
              "      --disabled-fill-color: #666;\n",
              "  }\n",
              "\n",
              "  .colab-df-quickchart {\n",
              "    background-color: var(--bg-color);\n",
              "    border: none;\n",
              "    border-radius: 50%;\n",
              "    cursor: pointer;\n",
              "    display: none;\n",
              "    fill: var(--fill-color);\n",
              "    height: 32px;\n",
              "    padding: 0;\n",
              "    width: 32px;\n",
              "  }\n",
              "\n",
              "  .colab-df-quickchart:hover {\n",
              "    background-color: var(--hover-bg-color);\n",
              "    box-shadow: 0 1px 2px rgba(60, 64, 67, 0.3), 0 1px 3px 1px rgba(60, 64, 67, 0.15);\n",
              "    fill: var(--button-hover-fill-color);\n",
              "  }\n",
              "\n",
              "  .colab-df-quickchart-complete:disabled,\n",
              "  .colab-df-quickchart-complete:disabled:hover {\n",
              "    background-color: var(--disabled-bg-color);\n",
              "    fill: var(--disabled-fill-color);\n",
              "    box-shadow: none;\n",
              "  }\n",
              "\n",
              "  .colab-df-spinner {\n",
              "    border: 2px solid var(--fill-color);\n",
              "    border-color: transparent;\n",
              "    border-bottom-color: var(--fill-color);\n",
              "    animation:\n",
              "      spin 1s steps(1) infinite;\n",
              "  }\n",
              "\n",
              "  @keyframes spin {\n",
              "    0% {\n",
              "      border-color: transparent;\n",
              "      border-bottom-color: var(--fill-color);\n",
              "      border-left-color: var(--fill-color);\n",
              "    }\n",
              "    20% {\n",
              "      border-color: transparent;\n",
              "      border-left-color: var(--fill-color);\n",
              "      border-top-color: var(--fill-color);\n",
              "    }\n",
              "    30% {\n",
              "      border-color: transparent;\n",
              "      border-left-color: var(--fill-color);\n",
              "      border-top-color: var(--fill-color);\n",
              "      border-right-color: var(--fill-color);\n",
              "    }\n",
              "    40% {\n",
              "      border-color: transparent;\n",
              "      border-right-color: var(--fill-color);\n",
              "      border-top-color: var(--fill-color);\n",
              "    }\n",
              "    60% {\n",
              "      border-color: transparent;\n",
              "      border-right-color: var(--fill-color);\n",
              "    }\n",
              "    80% {\n",
              "      border-color: transparent;\n",
              "      border-right-color: var(--fill-color);\n",
              "      border-bottom-color: var(--fill-color);\n",
              "    }\n",
              "    90% {\n",
              "      border-color: transparent;\n",
              "      border-bottom-color: var(--fill-color);\n",
              "    }\n",
              "  }\n",
              "</style>\n",
              "\n",
              "  <script>\n",
              "    async function quickchart(key) {\n",
              "      const quickchartButtonEl =\n",
              "        document.querySelector('#' + key + ' button');\n",
              "      quickchartButtonEl.disabled = true;  // To prevent multiple clicks.\n",
              "      quickchartButtonEl.classList.add('colab-df-spinner');\n",
              "      try {\n",
              "        const charts = await google.colab.kernel.invokeFunction(\n",
              "            'suggestCharts', [key], {});\n",
              "      } catch (error) {\n",
              "        console.error('Error during call to suggestCharts:', error);\n",
              "      }\n",
              "      quickchartButtonEl.classList.remove('colab-df-spinner');\n",
              "      quickchartButtonEl.classList.add('colab-df-quickchart-complete');\n",
              "    }\n",
              "    (() => {\n",
              "      let quickchartButtonEl =\n",
              "        document.querySelector('#df-bf49fb82-45d9-4084-bb64-07d4259b8063 button');\n",
              "      quickchartButtonEl.style.display =\n",
              "        google.colab.kernel.accessAllowed ? 'block' : 'none';\n",
              "    })();\n",
              "  </script>\n",
              "</div>\n",
              "\n",
              "    </div>\n",
              "  </div>\n"
            ],
            "application/vnd.google.colaboratory.intrinsic+json": {
              "type": "dataframe",
              "variable_name": "df_populacao_br",
              "summary": "{\n  \"name\": \"df_populacao_br\",\n  \"rows\": 1000,\n  \"fields\": [\n    {\n      \"column\": \"estado\",\n      \"properties\": {\n        \"dtype\": \"category\",\n        \"num_unique_values\": 27,\n        \"samples\": [\n          \"AC\",\n          \"PA\",\n          \"SC\"\n        ],\n        \"semantic_type\": \"\",\n        \"description\": \"\"\n      }\n    },\n    {\n      \"column\": \"idade\",\n      \"properties\": {\n        \"dtype\": \"number\",\n        \"std\": 13,\n        \"min\": 18,\n        \"max\": 64,\n        \"num_unique_values\": 47,\n        \"samples\": [\n          24,\n          48,\n          54\n        ],\n        \"semantic_type\": \"\",\n        \"description\": \"\"\n      }\n    },\n    {\n      \"column\": \"escolaridade\",\n      \"properties\": {\n        \"dtype\": \"category\",\n        \"num_unique_values\": 4,\n        \"samples\": [\n          \"Superior\",\n          \"P\\u00f3s-gradua\\u00e7\\u00e3o\",\n          \"Fundamental\"\n        ],\n        \"semantic_type\": \"\",\n        \"description\": \"\"\n      }\n    },\n    {\n      \"column\": \"n\\u00edvel de profici\\u00eancia em ingl\\u00eas\",\n      \"properties\": {\n        \"dtype\": \"category\",\n        \"num_unique_values\": 3,\n        \"samples\": [\n          \"Intermedi\\u00e1rio\",\n          \"B\\u00e1sico\",\n          \"Avan\\u00e7ado\"\n        ],\n        \"semantic_type\": \"\",\n        \"description\": \"\"\n      }\n    },\n    {\n      \"column\": \"renda\",\n      \"properties\": {\n        \"dtype\": \"number\",\n        \"std\": 996.572239312141,\n        \"min\": 103.74,\n        \"max\": 5632.38,\n        \"num_unique_values\": 998,\n        \"samples\": [\n          2752.82,\n          4218.76,\n          2244.62\n        ],\n        \"semantic_type\": \"\",\n        \"description\": \"\"\n      }\n    },\n    {\n      \"column\": \"sexo\",\n      \"properties\": {\n        \"dtype\": \"category\",\n        \"num_unique_values\": 2,\n        \"samples\": [\n          \"M\",\n          \"F\"\n        ],\n        \"semantic_type\": \"\",\n        \"description\": \"\"\n      }\n    }\n  ]\n}"
            }
          },
          "metadata": {},
          "execution_count": 6
        }
      ]
    },
    {
      "cell_type": "markdown",
      "source": [
        "1. Considere pessoas fluentes em inglês, qual a probabilidade complementar? Ou seja, qual a probabilidade de escolhermos uma pessoa aleatória e ela não ser fluente em inglês. Considere fluente quem tem o nível avançado."
      ],
      "metadata": {
        "id": "J9WHQzHPusWm"
      }
    },
    {
      "cell_type": "code",
      "source": [
        "# Contar o total de pessoas e o total de fluentes em inglês\n",
        "total_pessoas = len(df_populacao_br)\n",
        "total_fluentes = len(df_populacao_br[df_populacao_br['nível de proficiência em inglês'] == 'Avançado'])\n",
        "\n",
        "# Calcular a probabilidade de fluentes\n",
        "probabilidade_fluente = total_fluentes / total_pessoas\n",
        "\n",
        "# Calcular a probabilidade complementar (não ser fluente)\n",
        "probabilidade_complementar_flu = (1 - probabilidade_fluente)\n",
        "\n",
        "# Exibir resultado\n",
        "print(f'A probabilidade complementar de não ser fluente em inglês é de {(probabilidade_complementar_flu * 100):.2f}%')"
      ],
      "metadata": {
        "colab": {
          "base_uri": "https://localhost:8080/"
        },
        "id": "7xaJMtsCyhu1",
        "outputId": "4592f627-0a0f-42e6-fef7-69eb8a5cbbd7"
      },
      "execution_count": null,
      "outputs": [
        {
          "output_type": "stream",
          "name": "stdout",
          "text": [
            "A probabilidade complementar de não ser fluente em inglês é de 65.60%\n"
          ]
        }
      ]
    },
    {
      "cell_type": "markdown",
      "source": [
        "2. Se uma pessoa escolhida aleatoriamente for de Alagoas ou do Pará, qual é a probabilidade de ela ter uma renda superior a 5 mil reais?"
      ],
      "metadata": {
        "id": "zBsQtUX0uyAQ"
      }
    },
    {
      "cell_type": "code",
      "source": [
        "# Filtrar o df para incluir apenas pessoas de Alagoas ou do Pará\n",
        "df_al_pa = df_populacao_br[df_populacao_br['estado'].isin(['AL', 'PA'])]\n",
        "\n",
        "# Contar o total de pessoas e o total de pessoas que ganha mais de 5k\n",
        "total_al_pa = len(df_al_pa)\n",
        "total_al_pa_5k = len(df_al_pa[df_al_pa['renda'] > 5000])\n",
        "\n",
        "# Calcular a probabilidade de mais de 5k\n",
        "probabilidade_al_pa_5k = total_al_pa_5k / total_al_pa\n",
        "\n",
        "# A probabilidade de ter uma renda superior a 5 mil reais é 1 - probabilidade acumulada de obter 0 sucessos\n",
        "print(f'A probabilidade de uma pessoa escolhida aleatoriamente de Alagoas ou do Pará ter uma renda superior a 5 mil reais é de {(probabilidade_al_pa_5k * 100):.2f}%')"
      ],
      "metadata": {
        "colab": {
          "base_uri": "https://localhost:8080/"
        },
        "id": "-Jn5XLiSuz5U",
        "outputId": "cef4f154-ffa4-44ee-d2ce-759b6677a394"
      },
      "execution_count": null,
      "outputs": [
        {
          "output_type": "stream",
          "name": "stdout",
          "text": [
            "A probabilidade de uma pessoa escolhida aleatoriamente de Alagoas ou do Pará ter uma renda superior a 5 mil reais é de 5.06%\n"
          ]
        }
      ]
    },
    {
      "cell_type": "markdown",
      "source": [
        "3. Descubra a probabilidade de uma pessoa ter ensino superior completo no estado do Amazonas. Qual a probabilidade da quinta pessoa que você conversar, que é amazonense, ter ensino superior completo?"
      ],
      "metadata": {
        "id": "b3qfNElUu0JR"
      }
    },
    {
      "cell_type": "code",
      "source": [
        "# Criar um Data Frame para incluir apenas as pessoas do Amazonas\n",
        "df_amazonas = df_populacao_br[df_populacao_br['estado'] == 'AM'].copy()\n",
        "\n",
        "# Atualizar a categoria de escolaridade para considerar pós-graduação como superior\n",
        "df_amazonas.loc[df_amazonas['escolaridade'] == 'Pós-graduação', 'escolaridade'] = 'Superior'\n",
        "\n",
        "# Calcular a probabilidade de ter ensino superior completo (incluindo pós-graduação) no estado do Amazonas\n",
        "total_amazonas = len(df_amazonas)\n",
        "total_superior_amazonas = len(df_amazonas[df_amazonas['escolaridade'] == 'Superior'])\n",
        "probabilidade_superior_amazonas = total_superior_amazonas / total_amazonas\n",
        "\n",
        "print(f'A probabilidade de uma pessoa ter ensino superior completo no estado do Amazonas é de {(probabilidade_superior_amazonas * 100):.2f}%')\n",
        "\n",
        "# Calcular a probabilidade de a quinta pessoa ser a primeira a ter ensino superior completo\n",
        "k = 5  # A quinta pessoa\n",
        "probabilidade_geo_5 = geom.pmf(k, probabilidade_superior_amazonas)\n",
        "\n",
        "print(f'A probabilidade de a quinta pessoa que você conversar, se for amazonense, ter ensino superior completo é de {(probabilidade_geo_5 * 100):.2f}%')"
      ],
      "metadata": {
        "colab": {
          "base_uri": "https://localhost:8080/"
        },
        "id": "8flsbsmyu2gQ",
        "outputId": "c800a9eb-57a6-4e53-ac9b-d857176a0c5f"
      },
      "execution_count": null,
      "outputs": [
        {
          "output_type": "stream",
          "name": "stdout",
          "text": [
            "A probabilidade de uma pessoa ter ensino superior completo no estado do Amazonas é de 55.26%\n",
            "A probabilidade de a quinta pessoa que você conversar, se for amazonense, ter ensino superior completo é de 2.21%\n"
          ]
        }
      ]
    },
    {
      "cell_type": "markdown",
      "source": [
        "4. Considerando a renda das pessoas do nosso conjunto, podemos dizer que a renda de uma pessoa brasileira está na sua maioria em que faixa (faça faixa de 1.500 reais)? Qual é a sua função densidade de probabilidade?"
      ],
      "metadata": {
        "id": "7O3t_XiGu2wl"
      }
    },
    {
      "cell_type": "code",
      "source": [
        "# Criar faixas de renda com intervalo de 1.500 reais\n",
        "intervalo = 1500\n",
        "faixas_renda = np.arange(0 - intervalo, df_populacao_br['renda'].max() + intervalo, intervalo)\n",
        "\n",
        "# Criar o histograma com as faixas de renda\n",
        "contagem_por_faixa, _ = np.histogram(df_populacao_br['renda'], bins = faixas_renda)\n",
        "\n",
        "# Identificar o índice da faixa predominante\n",
        "indice_faixa_predominante = np.argmax(contagem_por_faixa)\n",
        "\n",
        "# Determinar os limites inferior e superior da faixa predominante\n",
        "limite_inferior = faixas_renda[indice_faixa_predominante]\n",
        "limite_superior = faixas_renda[indice_faixa_predominante + 1]\n",
        "\n",
        "# Exibir o resultado\n",
        "print(f\"Faixa de renda predominante: {limite_inferior} - {limite_superior} reais\")\n",
        "\n",
        "# Dados de renda\n",
        "renda = df_populacao_br['renda']\n",
        "\n",
        "plt.hist(renda, bins=faixas_renda, edgecolor = 'black', density = True, alpha=0.6, color = 'blue')\n",
        "\n",
        "# Calcular a média e o desvio padrão da renda\n",
        "media = renda.mean()\n",
        "desvio_padrao = renda.std()\n",
        "\n",
        "# Gerar valores de x para a função densidade de probabilidade\n",
        "xmin, xmax = plt.xlim()  # Obtém os limites do eixo x\n",
        "x = np.linspace(xmin, xmax, 100)\n",
        "\n",
        "# Calcular a função densidade de probabilidade\n",
        "pdf = norm.pdf(x, media, desvio_padrao)\n",
        "\n",
        "# Plotar a curva de densidade de probabilidade\n",
        "plt.plot(x, pdf, color='blue', linewidth=2)\n",
        "\n",
        "# Adicionar título e rótulos\n",
        "plt.title('Distribuição da Renda com Função Densidade de Probabilidade')\n",
        "plt.xlabel('Renda (em reais)')\n",
        "plt.ylabel('Densidade')\n",
        "\n",
        "# Ajustar o limite do eixo x para começar em 0\n",
        "plt.xlim(0)\n",
        "\n",
        "# Definir os rótulos do eixo x de 1500 em 1500\n",
        "plt.xticks(np.arange(0, renda.max() + 1500, 1500))\n",
        "\n",
        "# Exibir o gráfico\n",
        "plt.grid(False)\n",
        "plt.show()"
      ],
      "metadata": {
        "colab": {
          "base_uri": "https://localhost:8080/",
          "height": 489
        },
        "id": "PC44pazZsJNL",
        "outputId": "44dd5761-f57b-45cc-dc2f-e6ade089880c"
      },
      "execution_count": null,
      "outputs": [
        {
          "output_type": "stream",
          "name": "stdout",
          "text": [
            "Faixa de renda predominante: 3000.0 - 4500.0 reais\n"
          ]
        },
        {
          "output_type": "display_data",
          "data": {
            "text/plain": [
              "<Figure size 640x480 with 1 Axes>"
            ],
            "image/png": "[encoded data removed]"
          },
          "metadata": {}
        }
      ]
    },
    {
      "cell_type": "markdown",
      "source": [
        "5. Calcule a média e a variância da renda da amostra. Depois faça a distribuição normal, inclua o gráfico."
      ],
      "metadata": {
        "id": "B-KXyivTu4mL"
      }
    },
    {
      "cell_type": "code",
      "source": [
        "# Calcular média e variância da renda\n",
        "media_renda = round(df_populacao_br['renda'].mean(), 2)\n",
        "variancia_renda = round(df_populacao_br['renda'].var(), 2)\n",
        "\n",
        "# Exibir a média e variância\n",
        "print(f\"Média da renda: {media_renda}\")\n",
        "print(f\"Variância da renda: {variancia_renda}\")\n",
        "\n",
        "# Gerar distribuição normal com base na média e desvio padrão\n",
        "mu, sigma = media_renda, np.sqrt(variancia_renda)\n",
        "x = np.linspace(mu - 3*sigma, mu + 3*sigma, 100)\n",
        "y = stats.norm.pdf(x, mu, sigma)\n",
        "\n",
        "# Plotar o histograma de renda\n",
        "plt.figure(figsize=(10, 6))\n",
        "plt.hist(df_populacao_br['renda'], bins = 6, density = True, color='blue', alpha=0.6, label='Renda Real')\n",
        "\n",
        "# Curva da distribuição normal\n",
        "plt.plot(x, y, 'b-', lw = 2, label = 'Distribuição Normal')\n",
        "\n",
        "# Adicionar rótulos e mostrar o gráfico\n",
        "plt.xlabel('Renda')\n",
        "plt.ylabel('Densidade')\n",
        "plt.title('Distribuição da Renda com Distribuição Normal Ajustada')\n",
        "plt.legend()\n",
        "plt.grid(True)\n",
        "plt.show()"
      ],
      "metadata": {
        "colab": {
          "base_uri": "https://localhost:8080/",
          "height": 599
        },
        "id": "OFnnIjzAu7M5",
        "outputId": "726674b4-be86-4145-8006-cfa0561ac4e2"
      },
      "execution_count": null,
      "outputs": [
        {
          "output_type": "stream",
          "name": "stdout",
          "text": [
            "Média da renda: 3082.54\n",
            "Variância da renda: 993156.23\n"
          ]
        },
        {
          "output_type": "display_data",
          "data": {
            "text/plain": [
              "<Figure size 1000x600 with 1 Axes>"
            ],
            "image/png": "[encoded data removed]"
          },
          "metadata": {}
        }
      ]
    },
    {
      "cell_type": "markdown",
      "source": [
        "6. Primeiro considere a probabilidade encontrada no nosso conjunto de pessoas com escolaridade de pós-graduação. Considerando a amostra de população brasileira com 1 milhão de habitantes, qual a probabilidade de encontrarmos 243 mil pessoas com pós-graduação?"
      ],
      "metadata": {
        "id": "rsANRc4Cu8x3"
      }
    },
    {
      "cell_type": "code",
      "source": [
        "# Filtrar os dados para contar o número de pessoas com pós-graduação\n",
        "total_pessoas = len(df_populacao_br)\n",
        "pessoas_pos_graduacao = len(df_populacao_br[df_populacao_br['escolaridade'] == 'Pós-graduação'])\n",
        "\n",
        "# Parâmetros da distribuição binomial\n",
        "n = 1000000  # Número total de habitantes na amostra\n",
        "k = 243000   # Número de pessoas com pós-graduação\n",
        "p = pessoas_pos_graduacao / total_pessoas  # Proporção de pessoas com pós-graduação na amostra\n",
        "\n",
        "# Calcula a probabilidade usando a distribuição binomial\n",
        "probabilidade = stats.binom.pmf(k, n, p)\n",
        "\n",
        "print(f\"A probabilidade de encontrar exatamente {k} pessoas com pós-graduação em uma amostra de {n} habitantes é: {probabilidade:.6f}%\")"
      ],
      "metadata": {
        "colab": {
          "base_uri": "https://localhost:8080/"
        },
        "id": "F4qcY4v9u9H8",
        "outputId": "c41d6036-a098-43b0-c254-d7924f49f9f9"
      },
      "execution_count": null,
      "outputs": [
        {
          "output_type": "stream",
          "name": "stdout",
          "text": [
            "A probabilidade de encontrar exatamente 243000 pessoas com pós-graduação em uma amostra de 1000000 habitantes é: 0.000000%\n"
          ]
        }
      ]
    },
    {
      "cell_type": "markdown",
      "source": [
        "7. Somando as densidades nós temos a função de densidade acumulada. Considerando a coluna ‘Escolaridade’ faça a função de densidade acumulada discreta para cada nível de escolaridade."
      ],
      "metadata": {
        "id": "DMdpl-wou9pT"
      }
    },
    {
      "cell_type": "code",
      "source": [
        "# Contar o número de pessoas por nível de escolaridade\n",
        "contagem_escolaridade = df_populacao_br['escolaridade'].value_counts(normalize=False)\n",
        "\n",
        "# Calcular a densidade de probabilidade discreta\n",
        "total_pessoas = len(df_populacao_br)\n",
        "densidade_probabilidade = contagem_escolaridade / total_pessoas\n",
        "\n",
        "# Calcular a função de densidade acumulada discreta\n",
        "funcao_densidade_acumulada = densidade_probabilidade.cumsum()\n",
        "\n",
        "# Criar DataFrame para exibir os resultados\n",
        "resultado = pd.DataFrame({\n",
        "    'Densidade de Probabilidade': densidade_probabilidade,\n",
        "    'Função de Densidade Acumulada': funcao_densidade_acumulada\n",
        "})\n",
        "\n",
        "# Exibir o resultado\n",
        "print(resultado.sort_index())"
      ],
      "metadata": {
        "colab": {
          "base_uri": "https://localhost:8080/"
        },
        "id": "GgNgWU7Q2vGZ",
        "outputId": "ad213600-4f29-42a3-ff04-425713a51930"
      },
      "execution_count": null,
      "outputs": [
        {
          "output_type": "stream",
          "name": "stdout",
          "text": [
            "               Densidade de Probabilidade  Função de Densidade Acumulada\n",
            "escolaridade                                                            \n",
            "Fundamental                         0.266                          0.266\n",
            "Médio                               0.238                          1.000\n",
            "Pós-graduação                       0.253                          0.519\n",
            "Superior                            0.243                          0.762\n"
          ]
        }
      ]
    },
    {
      "cell_type": "markdown",
      "source": [
        "8. Qual a margem de erro amostral da proporção populacional considerando a proporção de pessoas com nível de inglês intermediário?"
      ],
      "metadata": {
        "id": "TGcy9EhBu_WB"
      }
    },
    {
      "cell_type": "code",
      "source": [
        "# Calcular a proporção de pessoas com nível de inglês intermediário\n",
        "total_pessoas = len(df_populacao_br)\n",
        "p_intermediario = len(df_populacao_br[df_populacao_br['nível de proficiência em inglês'] == 'Intermediário']) / total_pessoas\n",
        "\n",
        "# Tamanho da amostra\n",
        "n = total_pessoas\n",
        "\n",
        "# Valor crítico para 95% de confiança (aproximadamente 1.96)\n",
        "z = 1.96\n",
        "\n",
        "# Calcular o erro padrão\n",
        "erro_padrao = np.sqrt(p_intermediario * (1 - p_intermediario) / n)\n",
        "\n",
        "# Calcular a margem de erro\n",
        "margem_erro = z * erro_padrao\n",
        "\n",
        "print(f\"A margem de erro amostral da proporção para o nível de inglês intermediário é: {margem_erro:.4f}\")"
      ],
      "metadata": {
        "colab": {
          "base_uri": "https://localhost:8080/"
        },
        "id": "D6YgoLM8vE3v",
        "outputId": "8c034658-6850-4c72-eba8-a13e91ed7f56"
      },
      "execution_count": null,
      "outputs": [
        {
          "output_type": "stream",
          "name": "stdout",
          "text": [
            "A margem de erro amostral da proporção para o nível de inglês intermediário é: 0.0291\n"
          ]
        }
      ]
    },
    {
      "cell_type": "markdown",
      "source": [
        "9. Calcula a renda da população. Qual a probabilidade de encontrar 60 pessoas com uma renda mil reais superior à média?"
      ],
      "metadata": {
        "id": "m_gvkMuCvFRn"
      }
    },
    {
      "cell_type": "code",
      "source": [
        "# Calcular a renda média e desvio padrão\n",
        "media_renda = df_populacao_br['renda'].mean()\n",
        "desvio_padrao_renda = df_populacao_br['renda'].std()\n",
        "\n",
        "# Nova média para a renda 1.000 reais superior à média\n",
        "nova_media = media_renda + 1000\n",
        "\n",
        "# Número de pessoas na amostra\n",
        "total_pessoas = len(df_populacao_br)\n",
        "\n",
        "# Número de pessoas que teriam a renda 1.000 reais superior à nova média\n",
        "k = 60\n",
        "n = total_pessoas\n",
        "\n",
        "# Calcular a probabilidade da nova renda\n",
        "p = stats.norm.cdf(nova_media, loc = media_renda, scale = desvio_padrao_renda) - stats.norm.cdf(nova_media - 1000, loc = media_renda, scale = desvio_padrao_renda)\n",
        "\n",
        "# Calcula a probabilidade usando a distribuição binomial\n",
        "probabilidade = stats.binom.pmf(k, n, p)\n",
        "\n",
        "print(f\"A probabilidade de encontrar exatamente 60 pessoas com uma renda de {nova_media:.2f} reais é: {probabilidade:.2f}%\")"
      ],
      "metadata": {
        "colab": {
          "base_uri": "https://localhost:8080/"
        },
        "id": "A3JcyPrz4cgU",
        "outputId": "779cf4fe-468c-4292-b8d7-8b7da4b7f53e"
      },
      "execution_count": null,
      "outputs": [
        {
          "output_type": "stream",
          "name": "stdout",
          "text": [
            "A probabilidade de encontrar exatamente 60 pessoas com uma renda de 4082.54 reais é: 0.00%\n"
          ]
        }
      ]
    },
    {
      "cell_type": "code",
      "source": [
        "# Calcular a renda média e desvio padrão\n",
        "media_renda = df_populacao_br['renda'].mean()\n",
        "desvio_padrao_renda = df_populacao_br['renda'].std()\n",
        "\n",
        "print(f\"A renda média da população é: {media_renda:.2f}\")\n",
        "print(f\"O desvio padrão da renda é: {desvio_padrao_renda:.2f}\")"
      ],
      "metadata": {
        "colab": {
          "base_uri": "https://localhost:8080/"
        },
        "id": "x2iY076BvG_d",
        "outputId": "7aa78513-e334-4b26-bf98-6b04c7700f5b"
      },
      "execution_count": null,
      "outputs": [
        {
          "output_type": "stream",
          "name": "stdout",
          "text": [
            "A renda média da população é: 3082.54\n",
            "O desvio padrão da renda é: 996.57\n"
          ]
        }
      ]
    },
    {
      "cell_type": "markdown",
      "source": [
        "10. Qual a probabilidade de escolhermos alguém do Sudeste que seja homem, com ensino fundamental e com renda maior que 2mil reais por mês?"
      ],
      "metadata": {
        "id": "4iWbnI7svITi"
      }
    },
    {
      "cell_type": "code",
      "source": [
        "# Filtrar os dados para encontrar pessoas que atendem aos critérios\n",
        "criterios = (\n",
        "    (df_populacao_br['estado'] == 'SP') |\n",
        "    (df_populacao_br['estado'] == 'RJ') |\n",
        "    (df_populacao_br['estado'] == 'MG') |\n",
        "    (df_populacao_br['estado'] == 'ES')\n",
        ")\n",
        "pessoas_sudeste = df_populacao_br[criterios]\n",
        "pessoas_criterios = pessoas_sudeste[\n",
        "    (pessoas_sudeste['sexo'] == 'M') &\n",
        "    (pessoas_sudeste['escolaridade'] == 'Fundamental') &\n",
        "    (pessoas_sudeste['renda'] > 2000)\n",
        "]\n",
        "\n",
        "# Calcular a probabilidade\n",
        "total_pessoas = len(df_populacao_br)\n",
        "pessoas_com_criterios = len(pessoas_criterios)\n",
        "\n",
        "probabilidade = pessoas_com_criterios / total_pessoas\n",
        "\n",
        "print(f\"A probabilidade de escolher uma pessoa do Sudeste que seja homem, com ensino fundamental e com renda maior que 2 mil reais por mês é: {probabilidade:.4f}%\")"
      ],
      "metadata": {
        "colab": {
          "base_uri": "https://localhost:8080/"
        },
        "id": "wtR5Ob8xvJ79",
        "outputId": "7754d1bb-386e-4b86-bc5b-4c68e69f0d82"
      },
      "execution_count": null,
      "outputs": [
        {
          "output_type": "stream",
          "name": "stdout",
          "text": [
            "A probabilidade de escolher uma pessoa do Sudeste que seja homem, com ensino fundamental e com renda maior que 2 mil reais por mês é: 0.0190%\n"
          ]
        }
      ]
    }
  ]
}