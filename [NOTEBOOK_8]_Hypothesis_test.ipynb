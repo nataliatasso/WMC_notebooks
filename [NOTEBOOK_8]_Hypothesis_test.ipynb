{
  "nbformat": 4,
  "nbformat_minor": 0,
  "metadata": {
    "colab": {
      "provenance": [],
      "authorship_tag": "ABX9TyN4CZqadeZWqahZZMxX6kIN",
      "include_colab_link": true
    },
    "kernelspec": {
      "name": "python3",
      "display_name": "Python 3"
    },
    "language_info": {
      "name": "python"
    }
  },
  "cells": [
    {
      "cell_type": "markdown",
      "metadata": {
        "id": "view-in-github",
        "colab_type": "text"
      },
      "source": [
        "<a href=\"https://colab.research.google.com/github/nataliatasso/WMC_notebooks/blob/main/%5BNOTEBOOK_8%5D_Hypothesis_test.ipynb\" target=\"_parent\"><img src=\"https://colab.research.google.com/assets/colab-badge.svg\" alt=\"Open In Colab\"/></a>"
      ]
    },
    {
      "cell_type": "markdown",
      "source": [
        "# Estatística - Teste de Hipóteses"
      ],
      "metadata": {
        "id": "Yd52oMQSMgsI"
      }
    },
    {
      "cell_type": "markdown",
      "source": [
        "## Considerando a base de dados experimento_test_ab.csv responda as questões abaixo."
      ],
      "metadata": {
        "id": "QTCBOG9QMkja"
      }
    },
    {
      "cell_type": "code",
      "execution_count": null,
      "metadata": {
        "id": "D8dqfDO_MWt5"
      },
      "outputs": [],
      "source": [
        "# Bibliotecas base\n",
        "import pandas as pd\n",
        "import numpy as np\n",
        "\n",
        "# Bibliotecas para estatística\n",
        "from scipy.stats import ttest_ind, chi2_contingency, norm, kstest\n",
        "from scipy import stats\n",
        "\n",
        "# Bibliotecas para visualização de dados\n",
        "import seaborn as sns\n",
        "import matplotlib.pyplot as plt"
      ]
    },
    {
      "cell_type": "code",
      "source": [
        "# Carregar os dados\n",
        "df_teste_ab = pd.read_csv('experimento_teste_ab.csv', index_col=0)\n",
        "\n",
        "# Verificar as primeiras linhas do dataset\n",
        "df_teste_ab.head()"
      ],
      "metadata": {
        "colab": {
          "base_uri": "https://localhost:8080/",
          "height": 238
        },
        "id": "pdIQ-18lOM3f",
        "outputId": "82e48fc8-1041-4421-9264-c35a0bf1e983"
      },
      "execution_count": null,
      "outputs": [
        {
          "output_type": "execute_result",
          "data": {
            "text/plain": [
              "             Versão_Página  Visualizações  Conversões\n",
              "Visitante_ID                                         \n",
              "1                        A            167           1\n",
              "2                        A            160           0\n",
              "3                        A            170           0\n",
              "4                        A            161           1\n",
              "5                        A            104           0"
            ],
            "text/html": [
              "\n",
              "  <div id=\"df-fd84c97e-ec73-4876-a1d2-1e2124abcbf5\" class=\"colab-df-container\">\n",
              "    <div>\n",
              "<style scoped>\n",
              "    .dataframe tbody tr th:only-of-type {\n",
              "        vertical-align: middle;\n",
              "    }\n",
              "\n",
              "    .dataframe tbody tr th {\n",
              "        vertical-align: top;\n",
              "    }\n",
              "\n",
              "    .dataframe thead th {\n",
              "        text-align: right;\n",
              "    }\n",
              "</style>\n",
              "<table border=\"1\" class=\"dataframe\">\n",
              "  <thead>\n",
              "    <tr style=\"text-align: right;\">\n",
              "      <th></th>\n",
              "      <th>Versão_Página</th>\n",
              "      <th>Visualizações</th>\n",
              "      <th>Conversões</th>\n",
              "    </tr>\n",
              "    <tr>\n",
              "      <th>Visitante_ID</th>\n",
              "      <th></th>\n",
              "      <th></th>\n",
              "      <th></th>\n",
              "    </tr>\n",
              "  </thead>\n",
              "  <tbody>\n",
              "    <tr>\n",
              "      <th>1</th>\n",
              "      <td>A</td>\n",
              "      <td>167</td>\n",
              "      <td>1</td>\n",
              "    </tr>\n",
              "    <tr>\n",
              "      <th>2</th>\n",
              "      <td>A</td>\n",
              "      <td>160</td>\n",
              "      <td>0</td>\n",
              "    </tr>\n",
              "    <tr>\n",
              "      <th>3</th>\n",
              "      <td>A</td>\n",
              "      <td>170</td>\n",
              "      <td>0</td>\n",
              "    </tr>\n",
              "    <tr>\n",
              "      <th>4</th>\n",
              "      <td>A</td>\n",
              "      <td>161</td>\n",
              "      <td>1</td>\n",
              "    </tr>\n",
              "    <tr>\n",
              "      <th>5</th>\n",
              "      <td>A</td>\n",
              "      <td>104</td>\n",
              "      <td>0</td>\n",
              "    </tr>\n",
              "  </tbody>\n",
              "</table>\n",
              "</div>\n",
              "    <div class=\"colab-df-buttons\">\n",
              "\n",
              "  <div class=\"colab-df-container\">\n",
              "    <button class=\"colab-df-convert\" onclick=\"convertToInteractive('df-fd84c97e-ec73-4876-a1d2-1e2124abcbf5')\"\n",
              "            title=\"Convert this dataframe to an interactive table.\"\n",
              "            style=\"display:none;\">\n",
              "\n",
              "  <svg xmlns=\"http://www.w3.org/2000/svg\" height=\"24px\" viewBox=\"0 -960 960 960\">\n",
              "    <path d=\"M120-120v-720h720v720H120Zm60-500h600v-160H180v160Zm220 220h160v-160H400v160Zm0 220h160v-160H400v160ZM180-400h160v-160H180v160Zm440 0h160v-160H620v160ZM180-180h160v-160H180v160Zm440 0h160v-160H620v160Z\"/>\n",
              "  </svg>\n",
              "    </button>\n",
              "\n",
              "  <style>\n",
              "    .colab-df-container {\n",
              "      display:flex;\n",
              "      gap: 12px;\n",
              "    }\n",
              "\n",
              "    .colab-df-convert {\n",
              "      background-color: #E8F0FE;\n",
              "      border: none;\n",
              "      border-radius: 50%;\n",
              "      cursor: pointer;\n",
              "      display: none;\n",
              "      fill: #1967D2;\n",
              "      height: 32px;\n",
              "      padding: 0 0 0 0;\n",
              "      width: 32px;\n",
              "    }\n",
              "\n",
              "    .colab-df-convert:hover {\n",
              "      background-color: #E2EBFA;\n",
              "      box-shadow: 0px 1px 2px rgba(60, 64, 67, 0.3), 0px 1px 3px 1px rgba(60, 64, 67, 0.15);\n",
              "      fill: #174EA6;\n",
              "    }\n",
              "\n",
              "    .colab-df-buttons div {\n",
              "      margin-bottom: 4px;\n",
              "    }\n",
              "\n",
              "    [theme=dark] .colab-df-convert {\n",
              "      background-color: #3B4455;\n",
              "      fill: #D2E3FC;\n",
              "    }\n",
              "\n",
              "    [theme=dark] .colab-df-convert:hover {\n",
              "      background-color: #434B5C;\n",
              "      box-shadow: 0px 1px 3px 1px rgba(0, 0, 0, 0.15);\n",
              "      filter: drop-shadow(0px 1px 2px rgba(0, 0, 0, 0.3));\n",
              "      fill: #FFFFFF;\n",
              "    }\n",
              "  </style>\n",
              "\n",
              "    <script>\n",
              "      const buttonEl =\n",
              "        document.querySelector('#df-fd84c97e-ec73-4876-a1d2-1e2124abcbf5 button.colab-df-convert');\n",
              "      buttonEl.style.display =\n",
              "        google.colab.kernel.accessAllowed ? 'block' : 'none';\n",
              "\n",
              "      async function convertToInteractive(key) {\n",
              "        const element = document.querySelector('#df-fd84c97e-ec73-4876-a1d2-1e2124abcbf5');\n",
              "        const dataTable =\n",
              "          await google.colab.kernel.invokeFunction('convertToInteractive',\n",
              "                                                    [key], {});\n",
              "        if (!dataTable) return;\n",
              "\n",
              "        const docLinkHtml = 'Like what you see? Visit the ' +\n",
              "          '<a target=\"_blank\" href=https://colab.research.google.com/notebooks/data_table.ipynb>data table notebook</a>'\n",
              "          + ' to learn more about interactive tables.';\n",
              "        element.innerHTML = '';\n",
              "        dataTable['output_type'] = 'display_data';\n",
              "        await google.colab.output.renderOutput(dataTable, element);\n",
              "        const docLink = document.createElement('div');\n",
              "        docLink.innerHTML = docLinkHtml;\n",
              "        element.appendChild(docLink);\n",
              "      }\n",
              "    </script>\n",
              "  </div>\n",
              "\n",
              "\n",
              "<div id=\"df-3b4b361d-8702-42d8-ae6d-c4682083e316\">\n",
              "  <button class=\"colab-df-quickchart\" onclick=\"quickchart('df-3b4b361d-8702-42d8-ae6d-c4682083e316')\"\n",
              "            title=\"Suggest charts\"\n",
              "            style=\"display:none;\">\n",
              "\n",
              "<svg xmlns=\"http://www.w3.org/2000/svg\" height=\"24px\"viewBox=\"0 0 24 24\"\n",
              "     width=\"24px\">\n",
              "    <g>\n",
              "        <path d=\"M19 3H5c-1.1 0-2 .9-2 2v14c0 1.1.9 2 2 2h14c1.1 0 2-.9 2-2V5c0-1.1-.9-2-2-2zM9 17H7v-7h2v7zm4 0h-2V7h2v10zm4 0h-2v-4h2v4z\"/>\n",
              "    </g>\n",
              "</svg>\n",
              "  </button>\n",
              "\n",
              "<style>\n",
              "  .colab-df-quickchart {\n",
              "      --bg-color: #E8F0FE;\n",
              "      --fill-color: #1967D2;\n",
              "      --hover-bg-color: #E2EBFA;\n",
              "      --hover-fill-color: #174EA6;\n",
              "      --disabled-fill-color: #AAA;\n",
              "      --disabled-bg-color: #DDD;\n",
              "  }\n",
              "\n",
              "  [theme=dark] .colab-df-quickchart {\n",
              "      --bg-color: #3B4455;\n",
              "      --fill-color: #D2E3FC;\n",
              "      --hover-bg-color: #434B5C;\n",
              "      --hover-fill-color: #FFFFFF;\n",
              "      --disabled-bg-color: #3B4455;\n",
              "      --disabled-fill-color: #666;\n",
              "  }\n",
              "\n",
              "  .colab-df-quickchart {\n",
              "    background-color: var(--bg-color);\n",
              "    border: none;\n",
              "    border-radius: 50%;\n",
              "    cursor: pointer;\n",
              "    display: none;\n",
              "    fill: var(--fill-color);\n",
              "    height: 32px;\n",
              "    padding: 0;\n",
              "    width: 32px;\n",
              "  }\n",
              "\n",
              "  .colab-df-quickchart:hover {\n",
              "    background-color: var(--hover-bg-color);\n",
              "    box-shadow: 0 1px 2px rgba(60, 64, 67, 0.3), 0 1px 3px 1px rgba(60, 64, 67, 0.15);\n",
              "    fill: var(--button-hover-fill-color);\n",
              "  }\n",
              "\n",
              "  .colab-df-quickchart-complete:disabled,\n",
              "  .colab-df-quickchart-complete:disabled:hover {\n",
              "    background-color: var(--disabled-bg-color);\n",
              "    fill: var(--disabled-fill-color);\n",
              "    box-shadow: none;\n",
              "  }\n",
              "\n",
              "  .colab-df-spinner {\n",
              "    border: 2px solid var(--fill-color);\n",
              "    border-color: transparent;\n",
              "    border-bottom-color: var(--fill-color);\n",
              "    animation:\n",
              "      spin 1s steps(1) infinite;\n",
              "  }\n",
              "\n",
              "  @keyframes spin {\n",
              "    0% {\n",
              "      border-color: transparent;\n",
              "      border-bottom-color: var(--fill-color);\n",
              "      border-left-color: var(--fill-color);\n",
              "    }\n",
              "    20% {\n",
              "      border-color: transparent;\n",
              "      border-left-color: var(--fill-color);\n",
              "      border-top-color: var(--fill-color);\n",
              "    }\n",
              "    30% {\n",
              "      border-color: transparent;\n",
              "      border-left-color: var(--fill-color);\n",
              "      border-top-color: var(--fill-color);\n",
              "      border-right-color: var(--fill-color);\n",
              "    }\n",
              "    40% {\n",
              "      border-color: transparent;\n",
              "      border-right-color: var(--fill-color);\n",
              "      border-top-color: var(--fill-color);\n",
              "    }\n",
              "    60% {\n",
              "      border-color: transparent;\n",
              "      border-right-color: var(--fill-color);\n",
              "    }\n",
              "    80% {\n",
              "      border-color: transparent;\n",
              "      border-right-color: var(--fill-color);\n",
              "      border-bottom-color: var(--fill-color);\n",
              "    }\n",
              "    90% {\n",
              "      border-color: transparent;\n",
              "      border-bottom-color: var(--fill-color);\n",
              "    }\n",
              "  }\n",
              "</style>\n",
              "\n",
              "  <script>\n",
              "    async function quickchart(key) {\n",
              "      const quickchartButtonEl =\n",
              "        document.querySelector('#' + key + ' button');\n",
              "      quickchartButtonEl.disabled = true;  // To prevent multiple clicks.\n",
              "      quickchartButtonEl.classList.add('colab-df-spinner');\n",
              "      try {\n",
              "        const charts = await google.colab.kernel.invokeFunction(\n",
              "            'suggestCharts', [key], {});\n",
              "      } catch (error) {\n",
              "        console.error('Error during call to suggestCharts:', error);\n",
              "      }\n",
              "      quickchartButtonEl.classList.remove('colab-df-spinner');\n",
              "      quickchartButtonEl.classList.add('colab-df-quickchart-complete');\n",
              "    }\n",
              "    (() => {\n",
              "      let quickchartButtonEl =\n",
              "        document.querySelector('#df-3b4b361d-8702-42d8-ae6d-c4682083e316 button');\n",
              "      quickchartButtonEl.style.display =\n",
              "        google.colab.kernel.accessAllowed ? 'block' : 'none';\n",
              "    })();\n",
              "  </script>\n",
              "</div>\n",
              "\n",
              "    </div>\n",
              "  </div>\n"
            ],
            "application/vnd.google.colaboratory.intrinsic+json": {
              "type": "dataframe",
              "variable_name": "df_teste_ab",
              "summary": "{\n  \"name\": \"df_teste_ab\",\n  \"rows\": 2000,\n  \"fields\": [\n    {\n      \"column\": \"Visitante_ID\",\n      \"properties\": {\n        \"dtype\": \"number\",\n        \"std\": 577,\n        \"min\": 1,\n        \"max\": 2000,\n        \"num_unique_values\": 2000,\n        \"samples\": [\n          1861,\n          354,\n          1334\n        ],\n        \"semantic_type\": \"\",\n        \"description\": \"\"\n      }\n    },\n    {\n      \"column\": \"Vers\\u00e3o_P\\u00e1gina\",\n      \"properties\": {\n        \"dtype\": \"category\",\n        \"num_unique_values\": 2,\n        \"samples\": [\n          \"B\",\n          \"A\"\n        ],\n        \"semantic_type\": \"\",\n        \"description\": \"\"\n      }\n    },\n    {\n      \"column\": \"Visualiza\\u00e7\\u00f5es\",\n      \"properties\": {\n        \"dtype\": \"number\",\n        \"std\": 28,\n        \"min\": 100,\n        \"max\": 199,\n        \"num_unique_values\": 100,\n        \"samples\": [\n          192,\n          107\n        ],\n        \"semantic_type\": \"\",\n        \"description\": \"\"\n      }\n    },\n    {\n      \"column\": \"Convers\\u00f5es\",\n      \"properties\": {\n        \"dtype\": \"number\",\n        \"std\": 0,\n        \"min\": 0,\n        \"max\": 1,\n        \"num_unique_values\": 2,\n        \"samples\": [\n          0,\n          1\n        ],\n        \"semantic_type\": \"\",\n        \"description\": \"\"\n      }\n    }\n  ]\n}"
            }
          },
          "metadata": {},
          "execution_count": 3
        }
      ]
    },
    {
      "cell_type": "code",
      "source": [
        "df_teste_ab['Versão_Página'].unique()"
      ],
      "metadata": {
        "colab": {
          "base_uri": "https://localhost:8080/"
        },
        "id": "4UhIOR7DaQIv",
        "outputId": "969594e3-8d0a-4e4c-f05c-9575e57f4d5d"
      },
      "execution_count": null,
      "outputs": [
        {
          "output_type": "execute_result",
          "data": {
            "text/plain": [
              "array(['A', 'B'], dtype=object)"
            ]
          },
          "metadata": {},
          "execution_count": 4
        }
      ]
    },
    {
      "cell_type": "markdown",
      "source": [
        "1. Qual dos cenários têm a maior taxa de conversão?"
      ],
      "metadata": {
        "id": "GEzbCKOIOhyT"
      }
    },
    {
      "cell_type": "code",
      "source": [
        "# Agrupar por 'Versão_Página' e calcular a soma de visualizações e conversões para cada grupo\n",
        "resultados = df_teste_ab.groupby('Versão_Página').agg(\n",
        "    total_visualizacoes=('Visualizações', 'sum'),\n",
        "    total_conversoes=('Conversões', 'sum')\n",
        ")\n",
        "\n",
        "# Calcular a taxa de conversão para cada versão (conversões / visualizações)\n",
        "resultados['taxa_conversao'] = resultados['total_conversoes'] / resultados['total_visualizacoes']\n",
        "\n",
        "# Exibir os resultados\n",
        "print(resultados[['taxa_conversao']])\n",
        "\n",
        "# Identificar o cenário com a maior taxa de conversão\n",
        "versao_maior_conversao = resultados['taxa_conversao'].idxmax()\n",
        "\n",
        "# Exibir o cenário com a maior taxa de conversão\n",
        "print(f\"O cenário com a maior taxa de conversão é o {versao_maior_conversao}\")"
      ],
      "metadata": {
        "colab": {
          "base_uri": "https://localhost:8080/"
        },
        "id": "YSFBwGTQVl_X",
        "outputId": "c9ab4cf0-9638-43f0-f2c3-b9fd74bb3f89"
      },
      "execution_count": null,
      "outputs": [
        {
          "output_type": "stream",
          "name": "stdout",
          "text": [
            "               taxa_conversao\n",
            "Versão_Página                \n",
            "A                    0.000696\n",
            "B                    0.000830\n",
            "O cenário com a maior taxa de conversão é o B\n"
          ]
        }
      ]
    },
    {
      "cell_type": "markdown",
      "source": [
        "2. Calcule qual o tamanho da amostra necessária para o desenvolvimento de um teste A/B, seguindo os seguintes critérios:\n",
        "\n",
        "\n",
        "a. O cenário A, da base, como o inicial, que funciona hoje.\n",
        "\n",
        "\n",
        "b. Considere 95% de confiança de que o efeito na conversão não foi aleatório com um nível de significância de 5% (alpha = 0,05).\n",
        "\n",
        "\n",
        "c. Também considere 80% de certeza conseguir capturar o efeito da nova abordagem.\n",
        "\n",
        "\n",
        "d. O aumento para 10% de conversão."
      ],
      "metadata": {
        "id": "M78yua0QOknw"
      }
    },
    {
      "cell_type": "code",
      "source": [
        "from scipy.stats import norm\n",
        "\n",
        "# from statsmodels.stats.proportion\n",
        "# import proportion_effectsize\n",
        "\n",
        "# Filtrar os dados da versão A (cenário atual)\n",
        "df_versao_a = df_teste_ab[df_teste_ab['Versão_Página'] == 'A']\n",
        "\n",
        "# Calcular a taxa de conversão atual (proporção de conversões)\n",
        "taxa_conversao_atual = df_versao_a['Conversões'].mean()\n",
        "\n",
        "# Calcular a variância da conversão atual\n",
        "variancia_conversao_atual = df_versao_a['Conversões'].var()\n",
        "\n",
        "# Definir os parâmetros para o cálculo do tamanho da amostra\n",
        "alpha = 0.05  # Nível de significância\n",
        "power = 0.80  # Poder estatístico (1 - beta)\n",
        "sigma = np.sqrt(variancia_conversao_atual)  # Desvio padrão da conversão atual\n",
        "\n",
        "# Calcular os valores de Z para o nível de significância e poder\n",
        "z_alpha_half = norm.ppf(1 - alpha / 2)  # Z para α/2\n",
        "z_beta = norm.ppf(power)  # Z para β\n",
        "\n",
        "# Aumento esperado de 10% na conversão\n",
        "delta = (taxa_conversao_atual * 1.10) - taxa_conversao_atual  # Δ\n",
        "\n",
        "# Calcular o tamanho da amostra usando a fórmula\n",
        "n = ((z_alpha_half + z_beta)**2 * sigma**2) / (delta**2)\n",
        "\n",
        "# Calcular o tamanho da amostra para o teste A/B\n",
        "sample_size_ab = n * 2  # A amostra total é o dobro para dois grupos\n",
        "\n",
        "# 7. Exibir os resultados formatados\n",
        "print(f'Amostra necessária para um grupo: {n:.2f}')\n",
        "print(f'Amostra necessária para o teste A/B: {sample_size_ab:.2f}')"
      ],
      "metadata": {
        "colab": {
          "base_uri": "https://localhost:8080/"
        },
        "id": "1zjdU_Z0gFUY",
        "outputId": "fa5ce543-f6d4-4673-80d6-358a1dc1b69a"
      },
      "execution_count": null,
      "outputs": [
        {
          "output_type": "stream",
          "name": "stdout",
          "text": [
            "Amostra necessária para um grupo: 6696.93\n",
            "Amostra necessária para o teste A/B: 13393.87\n"
          ]
        }
      ]
    },
    {
      "cell_type": "markdown",
      "source": [
        "## Verifique a base pacientes.csv, os dados são fictícios. A tabela sintetiza uma base de dados de um hospital que trata de pacientes com problemas cardíacos. Considere a base como a população, portanto as estatísticas da população são conhecidas. Responda as perguntas abaixo."
      ],
      "metadata": {
        "id": "fdEFMux0Op6A"
      }
    },
    {
      "cell_type": "code",
      "source": [
        "# Carregar os dados\n",
        "df_pacientes = pd.read_csv('pacientes.csv', index_col=0)\n",
        "\n",
        "# Verificar as primeiras linhas do dataset\n",
        "df_pacientes.head()"
      ],
      "metadata": {
        "colab": {
          "base_uri": "https://localhost:8080/",
          "height": 206
        },
        "id": "cXs6vjaMOsNc",
        "outputId": "132fefc4-47d0-4f12-ad1d-6c11db7ac95d"
      },
      "execution_count": null,
      "outputs": [
        {
          "output_type": "execute_result",
          "data": {
            "text/plain": [
              "   Pressao_Arterial  Idade  Genero  Etnia  Estado_Saude Nome_Genero  \\\n",
              "0        142.755809     31       1      1             1    Feminino   \n",
              "1        161.878468     35       1      1             0    Feminino   \n",
              "2        161.508259     39       0      3             1   Masculino   \n",
              "3        144.979408     43       1      3             1    Feminino   \n",
              "4        162.502954     55       0      2             1   Masculino   \n",
              "\n",
              "       Nome_Etnia                  Nome_Estado_Saude  \n",
              "0  Afro-americano  Com condições de saúde adicionais  \n",
              "1  Afro-americano                           Saudável  \n",
              "2        Asiático  Com condições de saúde adicionais  \n",
              "3        Asiático  Com condições de saúde adicionais  \n",
              "4       Hispânico  Com condições de saúde adicionais  "
            ],
            "text/html": [
              "\n",
              "  <div id=\"df-6dc0291a-3a95-47d0-bcc5-a9db55a4f0f9\" class=\"colab-df-container\">\n",
              "    <div>\n",
              "<style scoped>\n",
              "    .dataframe tbody tr th:only-of-type {\n",
              "        vertical-align: middle;\n",
              "    }\n",
              "\n",
              "    .dataframe tbody tr th {\n",
              "        vertical-align: top;\n",
              "    }\n",
              "\n",
              "    .dataframe thead th {\n",
              "        text-align: right;\n",
              "    }\n",
              "</style>\n",
              "<table border=\"1\" class=\"dataframe\">\n",
              "  <thead>\n",
              "    <tr style=\"text-align: right;\">\n",
              "      <th></th>\n",
              "      <th>Pressao_Arterial</th>\n",
              "      <th>Idade</th>\n",
              "      <th>Genero</th>\n",
              "      <th>Etnia</th>\n",
              "      <th>Estado_Saude</th>\n",
              "      <th>Nome_Genero</th>\n",
              "      <th>Nome_Etnia</th>\n",
              "      <th>Nome_Estado_Saude</th>\n",
              "    </tr>\n",
              "  </thead>\n",
              "  <tbody>\n",
              "    <tr>\n",
              "      <th>0</th>\n",
              "      <td>142.755809</td>\n",
              "      <td>31</td>\n",
              "      <td>1</td>\n",
              "      <td>1</td>\n",
              "      <td>1</td>\n",
              "      <td>Feminino</td>\n",
              "      <td>Afro-americano</td>\n",
              "      <td>Com condições de saúde adicionais</td>\n",
              "    </tr>\n",
              "    <tr>\n",
              "      <th>1</th>\n",
              "      <td>161.878468</td>\n",
              "      <td>35</td>\n",
              "      <td>1</td>\n",
              "      <td>1</td>\n",
              "      <td>0</td>\n",
              "      <td>Feminino</td>\n",
              "      <td>Afro-americano</td>\n",
              "      <td>Saudável</td>\n",
              "    </tr>\n",
              "    <tr>\n",
              "      <th>2</th>\n",
              "      <td>161.508259</td>\n",
              "      <td>39</td>\n",
              "      <td>0</td>\n",
              "      <td>3</td>\n",
              "      <td>1</td>\n",
              "      <td>Masculino</td>\n",
              "      <td>Asiático</td>\n",
              "      <td>Com condições de saúde adicionais</td>\n",
              "    </tr>\n",
              "    <tr>\n",
              "      <th>3</th>\n",
              "      <td>144.979408</td>\n",
              "      <td>43</td>\n",
              "      <td>1</td>\n",
              "      <td>3</td>\n",
              "      <td>1</td>\n",
              "      <td>Feminino</td>\n",
              "      <td>Asiático</td>\n",
              "      <td>Com condições de saúde adicionais</td>\n",
              "    </tr>\n",
              "    <tr>\n",
              "      <th>4</th>\n",
              "      <td>162.502954</td>\n",
              "      <td>55</td>\n",
              "      <td>0</td>\n",
              "      <td>2</td>\n",
              "      <td>1</td>\n",
              "      <td>Masculino</td>\n",
              "      <td>Hispânico</td>\n",
              "      <td>Com condições de saúde adicionais</td>\n",
              "    </tr>\n",
              "  </tbody>\n",
              "</table>\n",
              "</div>\n",
              "    <div class=\"colab-df-buttons\">\n",
              "\n",
              "  <div class=\"colab-df-container\">\n",
              "    <button class=\"colab-df-convert\" onclick=\"convertToInteractive('df-6dc0291a-3a95-47d0-bcc5-a9db55a4f0f9')\"\n",
              "            title=\"Convert this dataframe to an interactive table.\"\n",
              "            style=\"display:none;\">\n",
              "\n",
              "  <svg xmlns=\"http://www.w3.org/2000/svg\" height=\"24px\" viewBox=\"0 -960 960 960\">\n",
              "    <path d=\"M120-120v-720h720v720H120Zm60-500h600v-160H180v160Zm220 220h160v-160H400v160Zm0 220h160v-160H400v160ZM180-400h160v-160H180v160Zm440 0h160v-160H620v160ZM180-180h160v-160H180v160Zm440 0h160v-160H620v160Z\"/>\n",
              "  </svg>\n",
              "    </button>\n",
              "\n",
              "  <style>\n",
              "    .colab-df-container {\n",
              "      display:flex;\n",
              "      gap: 12px;\n",
              "    }\n",
              "\n",
              "    .colab-df-convert {\n",
              "      background-color: #E8F0FE;\n",
              "      border: none;\n",
              "      border-radius: 50%;\n",
              "      cursor: pointer;\n",
              "      display: none;\n",
              "      fill: #1967D2;\n",
              "      height: 32px;\n",
              "      padding: 0 0 0 0;\n",
              "      width: 32px;\n",
              "    }\n",
              "\n",
              "    .colab-df-convert:hover {\n",
              "      background-color: #E2EBFA;\n",
              "      box-shadow: 0px 1px 2px rgba(60, 64, 67, 0.3), 0px 1px 3px 1px rgba(60, 64, 67, 0.15);\n",
              "      fill: #174EA6;\n",
              "    }\n",
              "\n",
              "    .colab-df-buttons div {\n",
              "      margin-bottom: 4px;\n",
              "    }\n",
              "\n",
              "    [theme=dark] .colab-df-convert {\n",
              "      background-color: #3B4455;\n",
              "      fill: #D2E3FC;\n",
              "    }\n",
              "\n",
              "    [theme=dark] .colab-df-convert:hover {\n",
              "      background-color: #434B5C;\n",
              "      box-shadow: 0px 1px 3px 1px rgba(0, 0, 0, 0.15);\n",
              "      filter: drop-shadow(0px 1px 2px rgba(0, 0, 0, 0.3));\n",
              "      fill: #FFFFFF;\n",
              "    }\n",
              "  </style>\n",
              "\n",
              "    <script>\n",
              "      const buttonEl =\n",
              "        document.querySelector('#df-6dc0291a-3a95-47d0-bcc5-a9db55a4f0f9 button.colab-df-convert');\n",
              "      buttonEl.style.display =\n",
              "        google.colab.kernel.accessAllowed ? 'block' : 'none';\n",
              "\n",
              "      async function convertToInteractive(key) {\n",
              "        const element = document.querySelector('#df-6dc0291a-3a95-47d0-bcc5-a9db55a4f0f9');\n",
              "        const dataTable =\n",
              "          await google.colab.kernel.invokeFunction('convertToInteractive',\n",
              "                                                    [key], {});\n",
              "        if (!dataTable) return;\n",
              "\n",
              "        const docLinkHtml = 'Like what you see? Visit the ' +\n",
              "          '<a target=\"_blank\" href=https://colab.research.google.com/notebooks/data_table.ipynb>data table notebook</a>'\n",
              "          + ' to learn more about interactive tables.';\n",
              "        element.innerHTML = '';\n",
              "        dataTable['output_type'] = 'display_data';\n",
              "        await google.colab.output.renderOutput(dataTable, element);\n",
              "        const docLink = document.createElement('div');\n",
              "        docLink.innerHTML = docLinkHtml;\n",
              "        element.appendChild(docLink);\n",
              "      }\n",
              "    </script>\n",
              "  </div>\n",
              "\n",
              "\n",
              "<div id=\"df-109d10d9-14e6-4ead-8299-837a043126bc\">\n",
              "  <button class=\"colab-df-quickchart\" onclick=\"quickchart('df-109d10d9-14e6-4ead-8299-837a043126bc')\"\n",
              "            title=\"Suggest charts\"\n",
              "            style=\"display:none;\">\n",
              "\n",
              "<svg xmlns=\"http://www.w3.org/2000/svg\" height=\"24px\"viewBox=\"0 0 24 24\"\n",
              "     width=\"24px\">\n",
              "    <g>\n",
              "        <path d=\"M19 3H5c-1.1 0-2 .9-2 2v14c0 1.1.9 2 2 2h14c1.1 0 2-.9 2-2V5c0-1.1-.9-2-2-2zM9 17H7v-7h2v7zm4 0h-2V7h2v10zm4 0h-2v-4h2v4z\"/>\n",
              "    </g>\n",
              "</svg>\n",
              "  </button>\n",
              "\n",
              "<style>\n",
              "  .colab-df-quickchart {\n",
              "      --bg-color: #E8F0FE;\n",
              "      --fill-color: #1967D2;\n",
              "      --hover-bg-color: #E2EBFA;\n",
              "      --hover-fill-color: #174EA6;\n",
              "      --disabled-fill-color: #AAA;\n",
              "      --disabled-bg-color: #DDD;\n",
              "  }\n",
              "\n",
              "  [theme=dark] .colab-df-quickchart {\n",
              "      --bg-color: #3B4455;\n",
              "      --fill-color: #D2E3FC;\n",
              "      --hover-bg-color: #434B5C;\n",
              "      --hover-fill-color: #FFFFFF;\n",
              "      --disabled-bg-color: #3B4455;\n",
              "      --disabled-fill-color: #666;\n",
              "  }\n",
              "\n",
              "  .colab-df-quickchart {\n",
              "    background-color: var(--bg-color);\n",
              "    border: none;\n",
              "    border-radius: 50%;\n",
              "    cursor: pointer;\n",
              "    display: none;\n",
              "    fill: var(--fill-color);\n",
              "    height: 32px;\n",
              "    padding: 0;\n",
              "    width: 32px;\n",
              "  }\n",
              "\n",
              "  .colab-df-quickchart:hover {\n",
              "    background-color: var(--hover-bg-color);\n",
              "    box-shadow: 0 1px 2px rgba(60, 64, 67, 0.3), 0 1px 3px 1px rgba(60, 64, 67, 0.15);\n",
              "    fill: var(--button-hover-fill-color);\n",
              "  }\n",
              "\n",
              "  .colab-df-quickchart-complete:disabled,\n",
              "  .colab-df-quickchart-complete:disabled:hover {\n",
              "    background-color: var(--disabled-bg-color);\n",
              "    fill: var(--disabled-fill-color);\n",
              "    box-shadow: none;\n",
              "  }\n",
              "\n",
              "  .colab-df-spinner {\n",
              "    border: 2px solid var(--fill-color);\n",
              "    border-color: transparent;\n",
              "    border-bottom-color: var(--fill-color);\n",
              "    animation:\n",
              "      spin 1s steps(1) infinite;\n",
              "  }\n",
              "\n",
              "  @keyframes spin {\n",
              "    0% {\n",
              "      border-color: transparent;\n",
              "      border-bottom-color: var(--fill-color);\n",
              "      border-left-color: var(--fill-color);\n",
              "    }\n",
              "    20% {\n",
              "      border-color: transparent;\n",
              "      border-left-color: var(--fill-color);\n",
              "      border-top-color: var(--fill-color);\n",
              "    }\n",
              "    30% {\n",
              "      border-color: transparent;\n",
              "      border-left-color: var(--fill-color);\n",
              "      border-top-color: var(--fill-color);\n",
              "      border-right-color: var(--fill-color);\n",
              "    }\n",
              "    40% {\n",
              "      border-color: transparent;\n",
              "      border-right-color: var(--fill-color);\n",
              "      border-top-color: var(--fill-color);\n",
              "    }\n",
              "    60% {\n",
              "      border-color: transparent;\n",
              "      border-right-color: var(--fill-color);\n",
              "    }\n",
              "    80% {\n",
              "      border-color: transparent;\n",
              "      border-right-color: var(--fill-color);\n",
              "      border-bottom-color: var(--fill-color);\n",
              "    }\n",
              "    90% {\n",
              "      border-color: transparent;\n",
              "      border-bottom-color: var(--fill-color);\n",
              "    }\n",
              "  }\n",
              "</style>\n",
              "\n",
              "  <script>\n",
              "    async function quickchart(key) {\n",
              "      const quickchartButtonEl =\n",
              "        document.querySelector('#' + key + ' button');\n",
              "      quickchartButtonEl.disabled = true;  // To prevent multiple clicks.\n",
              "      quickchartButtonEl.classList.add('colab-df-spinner');\n",
              "      try {\n",
              "        const charts = await google.colab.kernel.invokeFunction(\n",
              "            'suggestCharts', [key], {});\n",
              "      } catch (error) {\n",
              "        console.error('Error during call to suggestCharts:', error);\n",
              "      }\n",
              "      quickchartButtonEl.classList.remove('colab-df-spinner');\n",
              "      quickchartButtonEl.classList.add('colab-df-quickchart-complete');\n",
              "    }\n",
              "    (() => {\n",
              "      let quickchartButtonEl =\n",
              "        document.querySelector('#df-109d10d9-14e6-4ead-8299-837a043126bc button');\n",
              "      quickchartButtonEl.style.display =\n",
              "        google.colab.kernel.accessAllowed ? 'block' : 'none';\n",
              "    })();\n",
              "  </script>\n",
              "</div>\n",
              "\n",
              "    </div>\n",
              "  </div>\n"
            ],
            "application/vnd.google.colaboratory.intrinsic+json": {
              "type": "dataframe",
              "variable_name": "df_pacientes",
              "summary": "{\n  \"name\": \"df_pacientes\",\n  \"rows\": 1000,\n  \"fields\": [\n    {\n      \"column\": \"Pressao_Arterial\",\n      \"properties\": {\n        \"dtype\": \"number\",\n        \"std\": 9.943612581359616,\n        \"min\": 112.92982068924913,\n        \"max\": 181.80313088710068,\n        \"num_unique_values\": 1000,\n        \"samples\": [\n          152.04119412297098,\n          147.54391492523183,\n          168.8184130751253\n        ],\n        \"semantic_type\": \"\",\n        \"description\": \"\"\n      }\n    },\n    {\n      \"column\": \"Idade\",\n      \"properties\": {\n        \"dtype\": \"number\",\n        \"std\": 11,\n        \"min\": 30,\n        \"max\": 70,\n        \"num_unique_values\": 41,\n        \"samples\": [\n          30,\n          65,\n          57\n        ],\n        \"semantic_type\": \"\",\n        \"description\": \"\"\n      }\n    },\n    {\n      \"column\": \"Genero\",\n      \"properties\": {\n        \"dtype\": \"number\",\n        \"std\": 0,\n        \"min\": 0,\n        \"max\": 1,\n        \"num_unique_values\": 2,\n        \"samples\": [\n          0,\n          1\n        ],\n        \"semantic_type\": \"\",\n        \"description\": \"\"\n      }\n    },\n    {\n      \"column\": \"Etnia\",\n      \"properties\": {\n        \"dtype\": \"number\",\n        \"std\": 1,\n        \"min\": 0,\n        \"max\": 3,\n        \"num_unique_values\": 4,\n        \"samples\": [\n          3,\n          0\n        ],\n        \"semantic_type\": \"\",\n        \"description\": \"\"\n      }\n    },\n    {\n      \"column\": \"Estado_Saude\",\n      \"properties\": {\n        \"dtype\": \"number\",\n        \"std\": 0,\n        \"min\": 0,\n        \"max\": 1,\n        \"num_unique_values\": 2,\n        \"samples\": [\n          0,\n          1\n        ],\n        \"semantic_type\": \"\",\n        \"description\": \"\"\n      }\n    },\n    {\n      \"column\": \"Nome_Genero\",\n      \"properties\": {\n        \"dtype\": \"category\",\n        \"num_unique_values\": 2,\n        \"samples\": [\n          \"Masculino\",\n          \"Feminino\"\n        ],\n        \"semantic_type\": \"\",\n        \"description\": \"\"\n      }\n    },\n    {\n      \"column\": \"Nome_Etnia\",\n      \"properties\": {\n        \"dtype\": \"category\",\n        \"num_unique_values\": 4,\n        \"samples\": [\n          \"Asi\\u00e1tico\",\n          \"Caucasiano\"\n        ],\n        \"semantic_type\": \"\",\n        \"description\": \"\"\n      }\n    },\n    {\n      \"column\": \"Nome_Estado_Saude\",\n      \"properties\": {\n        \"dtype\": \"category\",\n        \"num_unique_values\": 2,\n        \"samples\": [\n          \"Saud\\u00e1vel\",\n          \"Com condi\\u00e7\\u00f5es de sa\\u00fade adicionais\"\n        ],\n        \"semantic_type\": \"\",\n        \"description\": \"\"\n      }\n    }\n  ]\n}"
            }
          },
          "metadata": {},
          "execution_count": 7
        }
      ]
    },
    {
      "cell_type": "code",
      "source": [
        "df_pacientes.info()"
      ],
      "metadata": {
        "colab": {
          "base_uri": "https://localhost:8080/"
        },
        "id": "H4P9nvcNb_HB",
        "outputId": "510592e3-6849-47df-a272-2daaa8d031d0"
      },
      "execution_count": null,
      "outputs": [
        {
          "output_type": "stream",
          "name": "stdout",
          "text": [
            "<class 'pandas.core.frame.DataFrame'>\n",
            "Index: 1000 entries, 0 to 999\n",
            "Data columns (total 8 columns):\n",
            " #   Column             Non-Null Count  Dtype  \n",
            "---  ------             --------------  -----  \n",
            " 0   Pressao_Arterial   1000 non-null   float64\n",
            " 1   Idade              1000 non-null   int64  \n",
            " 2   Genero             1000 non-null   int64  \n",
            " 3   Etnia              1000 non-null   int64  \n",
            " 4   Estado_Saude       1000 non-null   int64  \n",
            " 5   Nome_Genero        1000 non-null   object \n",
            " 6   Nome_Etnia         1000 non-null   object \n",
            " 7   Nome_Estado_Saude  1000 non-null   object \n",
            "dtypes: float64(1), int64(4), object(3)\n",
            "memory usage: 70.3+ KB\n"
          ]
        }
      ]
    },
    {
      "cell_type": "markdown",
      "source": [
        "3. Considerando uma amostra de 45 números que representam o index do dataframe, índices= ([909, 751, 402, 400, 726, 39, 184, 269, 255, 769, 209, 715, 677, 381, 793, 697, 89, 280, 232, 756, 358, 36, 439, 768, 967, 699, 473, 222, 89, 639, 883, 558, 757, 84, 907, 895, 217, 224, 311, 348, 146, 505, 273, 957, 362]). Considerando essa amostra é possível dizer que a idade média das pessoas com problemas cardíacos é maior que 50 anos? Nível de significância igual a 5%."
      ],
      "metadata": {
        "id": "tMK4_V0WO6MB"
      }
    },
    {
      "cell_type": "markdown",
      "source": [
        "H0: a média de idade de pessoas com problemas cardíacos é igual a 50 anos.\n",
        "\n",
        "H1: a média de idade de pessoas com problemas de saúde é diferente de 50 anos.\n",
        "\n",
        "Predição: a média de idade de pessoas com problemas de saúde é maior do que 50 anos."
      ],
      "metadata": {
        "id": "Pyo-j_M3LQCU"
      }
    },
    {
      "cell_type": "code",
      "source": [
        "# Sub-amostra dos índices fornecidos\n",
        "indices = [909, 751, 402, 400, 726, 39, 184, 269, 255, 769, 209, 715, 677, 381, 793, 697, 89, 280, 232, 756,\n",
        "           358, 36, 439, 768, 967, 699, 473, 222, 89, 639, 883, 558, 757, 84, 907, 895, 217, 224, 311, 348,\n",
        "           146, 505, 273, 957, 362]\n",
        "\n",
        "# Filtrar a sub-amostra no dataframe\n",
        "df_sub_amostra = df_pacientes.loc[indices]\n",
        "\n",
        "# Calcular a idade média para todas as observações da sub-amostra\n",
        "idade_media = df_sub_amostra['Idade'].mean()\n",
        "\n",
        "# Teste t de uma amostra\n",
        "t_stat, p_valor = stats.ttest_1samp(df_sub_amostra['Idade'], 50)\n",
        "\n",
        "# Resultados\n",
        "print(f\"Idade média: {idade_media}\")\n",
        "print(f\"T-Stat: {t_stat}\")\n",
        "print(f\"P-Valor Bilateral: {p_valor}\")\n",
        "\n",
        "# Verificar se p-valor é menor ou igual a 0.05\n",
        "if p_valor <= 0.05:\n",
        "    print(\"Rejeitamos a hipótese nula. A idade média é significativamente diferente de 50 anos.\")\n",
        "else:\n",
        "    print(\"Não rejeitamos a hipótese nula. Não há evidências suficientes para afirmar que a idade média é diferente de 50 anos.\")"
      ],
      "metadata": {
        "colab": {
          "base_uri": "https://localhost:8080/"
        },
        "id": "BIGXoHAkZeE0",
        "outputId": "f86ea100-f828-4dbe-a75c-d7c5fbe8dcad"
      },
      "execution_count": null,
      "outputs": [
        {
          "output_type": "stream",
          "name": "stdout",
          "text": [
            "Idade média: 50.08888888888889\n",
            "T-Stat: 0.052280983519350496\n",
            "P-Valor Bilateral: 0.9585414467632783\n",
            "Não rejeitamos a hipótese nula. Não há evidências suficientes para afirmar que a idade média é diferente de 50 anos.\n"
          ]
        }
      ]
    },
    {
      "cell_type": "markdown",
      "source": [
        "4. Queremos entender que tipo de amostra estamos lidando se dividirmos os conjuntos em 2, sendo um com pessoas que têm condições de saúde adicionais e o outro com pessoas saudáveis. Seria dependente ou independente?"
      ],
      "metadata": {
        "id": "21gUrzq-O9ee"
      }
    },
    {
      "cell_type": "markdown",
      "source": [
        "Para dividirmos nossa amostra em dois grupos com base nas condições de saúde poderíamos utilizar as informações presentes na variável 'Nome_Estado_Saude' (assim como 'Estado_Saude'). Trata-se de uma variável categórica com duas categorias: 'pessoas saudáveis' e 'pessoas com condições adicionais'. Assim, vemos que as pessoas que participam de uma condição não podem participar da outra condição e vice-versa, portanto, trata-se de **grupos independentes**. Quando essa condição ocorre, dizemos que o delineamento da pesquisa é entre participantes."
      ],
      "metadata": {
        "id": "nUA4gYyjit47"
      }
    },
    {
      "cell_type": "markdown",
      "source": [
        "5. Agora considere o um conjunto de pessoas aleatória que representam o index do dataframe, índices = ([690, 894, 67, 201, 364, 19, 60, 319, 588, 643, 855, 623, 530, 174, 105, 693, 6, 462, 973, 607, 811, 346, 354, 966, 943, 372]), podemos dizer que a pressão arterial média para pacientes com condições de saúde adicionais é igual à pressão arterial média para pacientes sem condições adicionais de saúde? Considere o nível de significância a 6%."
      ],
      "metadata": {
        "id": "0K390RCSO_Vr"
      }
    },
    {
      "cell_type": "markdown",
      "source": [
        "H0: a pressão arterial média de pacientes com condições de saúde adicionais é igual da pressão arterial média de pacientes sem condições adicionais.\n",
        "\n",
        "H1: a pressão arterial média de pacientes com condições de saúde adicionais é diferente da pressão arterial média de pacientes sem condições adicionais."
      ],
      "metadata": {
        "id": "9ozroCf5Nu_K"
      }
    },
    {
      "cell_type": "code",
      "source": [
        "# Sub-amostra dos índices fornecidos\n",
        "indices = [690, 894, 67, 201, 364, 19, 60, 319, 588, 643, 855, 623, 530, 174, 105, 693, 6, 462, 973, 607,\n",
        "           811, 346, 354, 966, 943, 372]\n",
        "\n",
        "# Filtrar a sub-amostra no dataframe\n",
        "df_sub_amostra = df_pacientes.loc[indices]\n",
        "\n",
        "# Separar os pacientes com e sem condições de saúde adicionais\n",
        "df_com_condicoes = df_sub_amostra[df_sub_amostra['Nome_Estado_Saude'] == 'Com condições de saúde adicionais']\n",
        "df_sem_condicoes = df_sub_amostra[df_sub_amostra['Nome_Estado_Saude'] == 'Saudável']\n",
        "\n",
        "# Pressão arterial média dos dois grupos\n",
        "media_com_condicoes = df_com_condicoes['Pressao_Arterial'].mean()\n",
        "media_sem_condicoes = df_sem_condicoes['Pressao_Arterial'].mean()\n",
        "\n",
        "# Teste t de duas amostras independentes\n",
        "t_stat, p_valor = stats.ttest_ind(df_com_condicoes['Pressao_Arterial'], df_sem_condicoes['Pressao_Arterial'])\n",
        "\n",
        "# Resultados\n",
        "print(f\"Pressão arterial média (com condições de saúde): {media_com_condicoes}\")\n",
        "print(f\"Pressão arterial média (sem condições de saúde): {media_sem_condicoes}\")\n",
        "print(f\"T-Stat: {t_stat}\")\n",
        "print(f\"P-Valor Bilateral: {p_valor}\")\n",
        "\n",
        "# Verificar se p-valor é menor que 0.06\n",
        "if p_valor < 0.06:\n",
        "    print(\"Rejeitamos a hipótese nula. A pressão arterial média é significativamente diferente entre os dois grupos.\")\n",
        "else:\n",
        "    print(\"Não rejeitamos a hipótese nula. Não há evidências suficientes para afirmar que a pressão arterial média é diferente entre os dois grupos.\")"
      ],
      "metadata": {
        "colab": {
          "base_uri": "https://localhost:8080/"
        },
        "id": "5hXj__TJOLi5",
        "outputId": "e3e73519-a999-44ce-d83a-2b6e09d51e11"
      },
      "execution_count": null,
      "outputs": [
        {
          "output_type": "stream",
          "name": "stdout",
          "text": [
            "Pressão arterial média (com condições de saúde): 153.19725449805927\n",
            "Pressão arterial média (sem condições de saúde): 152.94305165531088\n",
            "T-Stat: 0.08124024162329026\n",
            "P-Valor Bilateral: 0.9359246016248415\n",
            "Não rejeitamos a hipótese nula. Não há evidências suficientes para afirmar que a pressão arterial média é diferente entre os dois grupos.\n"
          ]
        }
      ]
    },
    {
      "cell_type": "markdown",
      "source": [
        "6. Existe uma diferença significativa na pressão arterial média entre diferentes grupos étnicos nesta população? (Teste ANOVA, alpha é 5%)\n",
        "\n",
        "\n",
        "a. Hipótese Nula (H0): A pressão arterial média é a mesma em todos os grupos étnicos.\n",
        "\n",
        "b. Hipótese Alternativa (H1): Há uma diferença significativa na pressão arterial média entre pelo menos dois grupos étnicos nesta população.\n",
        "\n",
        "\n",
        "\n",
        "\n"
      ],
      "metadata": {
        "id": "idOm-9pAPDgt"
      }
    },
    {
      "cell_type": "code",
      "source": [
        "# Teste ANOVA\n",
        "# Agrupar os dados por etnia\n",
        "grupos_etnicos = [df_pacientes[df_pacientes['Nome_Etnia'] == etnia]['Pressao_Arterial'] for etnia in df_pacientes['Nome_Etnia'].unique()]\n",
        "\n",
        "# Realizar o teste ANOVA\n",
        "f_stat, p_valor_anova = stats.f_oneway(*grupos_etnicos)\n",
        "\n",
        "# Resultados do teste ANOVA\n",
        "print(f\"F-Stat (ANOVA): {f_stat}\")\n",
        "print(f\"P-Valor (ANOVA): {p_valor_anova}\")\n",
        "\n",
        "# Verificar se p-valor é menor que 0.05\n",
        "if p_valor_anova < 0.05:\n",
        "    print(\"Rejeitamos a hipótese nula. Há uma diferença significativa na pressão arterial média entre os grupos étnicos.\")\n",
        "else:\n",
        "    print(\"Não rejeitamos a hipótese nula. Não há evidências suficientes para afirmar que há uma diferença significativa na pressão arterial média entre os grupos étnicos.\")"
      ],
      "metadata": {
        "id": "k11U4pn4PIa1",
        "colab": {
          "base_uri": "https://localhost:8080/"
        },
        "outputId": "a3d2d742-b639-48b5-8a6d-8fcda4620cb1"
      },
      "execution_count": null,
      "outputs": [
        {
          "output_type": "stream",
          "name": "stdout",
          "text": [
            "F-Stat (ANOVA): 0.23245296261596837\n",
            "P-Valor (ANOVA): 0.873800123850745\n",
            "Não rejeitamos a hipótese nula. Não há evidências suficientes para afirmar que há uma diferença significativa na pressão arterial média entre os grupos étnicos.\n"
          ]
        }
      ]
    },
    {
      "cell_type": "markdown",
      "source": [
        "c. Existe uma associação entre a idade dos pacientes e sua pressão arterial?\n",
        "\n",
        "\n",
        "1.   Hipótese Nula (H0): A idade dos pacientes é independente da pressão arterial.\n",
        "2.   Hipótese Alternativa (H1): A idade dos pacientes está associada à sua pressão arterial."
      ],
      "metadata": {
        "id": "qFJ7NEpCee2m"
      }
    },
    {
      "cell_type": "code",
      "source": [
        "# Teste de correlação\n",
        "# Verificar a correlação entre idade e pressão arterial\n",
        "coef_corr, p_valor_corr = stats.pearsonr(df_pacientes['Idade'], df_pacientes['Pressao_Arterial'])\n",
        "\n",
        "# Resultados do teste de correlação\n",
        "print(f\"Coeficiente de correlação: {coef_corr}\")\n",
        "print(f\"P-Valor (Correlação): {p_valor_corr}\")\n",
        "\n",
        "# Verificar se p-valor é menor que 0.05\n",
        "if p_valor_corr < 0.05:\n",
        "    print(\"Rejeitamos a hipótese nula. Existe uma associação significativa entre idade e pressão arterial.\")\n",
        "else:\n",
        "    print(\"Não rejeitamos a hipótese nula. Não há evidências suficientes para afirmar que idade está associada à pressão arterial.\")\n",
        "\n",
        "# Visualização da relação entre idade e pressão arterial\n",
        "sns.scatterplot(x='Idade', y='Pressao_Arterial', data=df_pacientes)\n",
        "plt.title('Idade vs Pressão Arterial')\n",
        "plt.xlabel('Idade')\n",
        "plt.ylabel('Pressão Arterial')\n",
        "plt.show()"
      ],
      "metadata": {
        "colab": {
          "base_uri": "https://localhost:8080/",
          "height": 524
        },
        "id": "bl9Lq-dYQBGq",
        "outputId": "6f3028f1-6ee5-4385-a342-08ba7ac432b2"
      },
      "execution_count": null,
      "outputs": [
        {
          "output_type": "stream",
          "name": "stdout",
          "text": [
            "Coeficiente de correlação: -0.021385356934648977\n",
            "P-Valor (Correlação): 0.4993608212055476\n",
            "Não rejeitamos a hipótese nula. Não há evidências suficientes para afirmar que idade está associada à pressão arterial.\n"
          ]
        },
        {
          "output_type": "display_data",
          "data": {
            "text/plain": [
              "<Figure size 640x480 with 1 Axes>"
            ],
            "image/png": "[encoded data removed]"
          },
          "metadata": {}
        }
      ]
    },
    {
      "cell_type": "markdown",
      "source": [
        "7. Lúcia é uma pesquisadora e tem o objetivo de entender a relação de gênero neste grupo de pacientes. Acredita-se que há uma relação entre o sexo e condições de saúde adicionais. (Teste qui-quadrado)"
      ],
      "metadata": {
        "id": "YfQwfGwHPKsk"
      }
    },
    {
      "cell_type": "code",
      "source": [
        "from scipy.stats import chi2_contingency\n",
        "\n",
        "# Criar uma tabela de contingência entre o sexo e condições de saúde adicionais\n",
        "tabela_contingencia = pd.crosstab(df_pacientes['Genero'], df_pacientes['Nome_Estado_Saude'])\n",
        "\n",
        "# Realizar o teste qui-quadrado\n",
        "chi2, p_value, dof, expected = chi2_contingency(tabela_contingencia)\n",
        "\n",
        "# Exibir os resultados\n",
        "print(f\"Qui-quadrado: {chi2}\")\n",
        "print(f\"Valor p: {p_value}\")\n",
        "print(f\"Graus de liberdade: {dof}\")\n",
        "print(\"Frequências esperadas:\")\n",
        "print(expected)\n",
        "\n",
        "# Verificar o resultado com nível de significância de 5% (alpha <= 0.05)\n",
        "alpha <= 0.05\n",
        "if p_value <= alpha:\n",
        "    print(\"Rejeitamos a hipótese nula: Existe uma associação significativa entre o sexo e as condições de saúde adicionais.\")\n",
        "else:\n",
        "    print(\"Não rejeitamos a hipótese nula: não há evidências suficientes para afirmar que há uma associação entre o sexo e as condições de saúde adicionais.\")"
      ],
      "metadata": {
        "colab": {
          "base_uri": "https://localhost:8080/"
        },
        "id": "PJWYQESYlwC0",
        "outputId": "f6db87d4-adc6-44bc-f2f3-70c1c01dc594"
      },
      "execution_count": null,
      "outputs": [
        {
          "output_type": "stream",
          "name": "stdout",
          "text": [
            "Qui-quadrado: 0.0\n",
            "Valor p: 1.0\n",
            "Graus de liberdade: 1\n",
            "Frequências esperadas:\n",
            "[[253.47 243.53]\n",
            " [256.53 246.47]]\n",
            "Não rejeitamos a hipótese nula: não há evidências suficientes para afirmar que há uma associação entre o sexo e as condições de saúde adicionais.\n"
          ]
        }
      ]
    },
    {
      "cell_type": "markdown",
      "source": [
        "8. Qual é o intervalo de confiança para a média da pressão arterial entre os pacientes com condições de saúde adicionais? (nível de confiança 95%).\n",
        "\n"
      ],
      "metadata": {
        "id": "msTWjXQUPLxp"
      }
    },
    {
      "cell_type": "code",
      "source": [
        "# Filtrar os pacientes com condições de saúde adicionais\n",
        "df_com_condicoes = df_pacientes[df_pacientes['Nome_Estado_Saude'] == 'Com condições de saúde adicionais']\n",
        "\n",
        "# Calcular média, desvio padrão e tamanho da amostra\n",
        "media = df_com_condicoes['Pressao_Arterial'].mean()\n",
        "desvio_padrao = df_com_condicoes['Pressao_Arterial'].std()\n",
        "n = len(df_com_condicoes)\n",
        "\n",
        "# Nível de confiança de 95%\n",
        "nivel_confianca = 0.95\n",
        "alpha = 1 - nivel_confianca\n",
        "\n",
        "# Valor crítico t\n",
        "t_critico = stats.t.ppf(1 - alpha/2, df=n-1)\n",
        "\n",
        "# Margem de erro\n",
        "margem_erro = t_critico * (desvio_padrao / np.sqrt(n))\n",
        "\n",
        "# Intervalo de confiança\n",
        "limite_inferior = media - margem_erro\n",
        "limite_superior = media + margem_erro\n",
        "\n",
        "# Exibir os resultados\n",
        "print(f\"Média da pressão arterial: {media}\")\n",
        "print(f\"Intervalo de confiança a 95%: ({limite_inferior}, {limite_superior})\")"
      ],
      "metadata": {
        "colab": {
          "base_uri": "https://localhost:8080/"
        },
        "id": "enYogbW9RJRU",
        "outputId": "ae46a7e6-8314-4f48-bbc8-9467761ab923"
      },
      "execution_count": null,
      "outputs": [
        {
          "output_type": "stream",
          "name": "stdout",
          "text": [
            "Média da pressão arterial: 150.11845194515755\n",
            "Intervalo de confiança a 95%: (149.21972443653837, 151.01717945377672)\n"
          ]
        }
      ]
    },
    {
      "cell_type": "markdown",
      "source": [
        "9. A distribuição da pressão arterial na população segue uma distribuição normal?\n",
        "\n",
        "\n",
        "a. Hipótese Nula (H0): A distribuição da pressão arterial na população segue uma distribuição normal.\n",
        "\n",
        "\n",
        "b. Hipótese Alternativa (H1): A distribuição da pressão arterial na população não segue uma distribuição normal."
      ],
      "metadata": {
        "id": "ZMa7_cfhPNfb"
      }
    },
    {
      "cell_type": "code",
      "source": [
        "# Realizar o teste de Kolmogorov-Smirnov (KS) na pressão arterial\n",
        "stat, p_value = kstest(df_pacientes['Pressao_Arterial'], 'norm', args=(df_pacientes['Pressao_Arterial'].mean(), df_pacientes['Pressao_Arterial'].std()))\n",
        "\n",
        "# Exibir os resultados do teste\n",
        "print(f\"Estatística de KS: {stat}\")\n",
        "print(f\"Valor p: {p_value}\")\n",
        "\n",
        "# Verificar o resultado com nível de significância de 5% (alpha = 0.05)\n",
        "alpha = 0.05\n",
        "if p_value > alpha:\n",
        "    print(\"Não rejeitamos a hipótese nula: a distribuição da pressão arterial segue uma distribuição normal.\")\n",
        "else:\n",
        "    print(\"Rejeitamos a hipótese nula: a distribuição da pressão arterial não segue uma distribuição normal.\")"
      ],
      "metadata": {
        "colab": {
          "base_uri": "https://localhost:8080/"
        },
        "id": "aKHuQ2vng4_h",
        "outputId": "97fad5f2-ac66-48b5-c201-4296626aeb36"
      },
      "execution_count": null,
      "outputs": [
        {
          "output_type": "stream",
          "name": "stdout",
          "text": [
            "Estatística de KS: 0.020519631883174544\n",
            "Valor p: 0.7856894546948101\n",
            "Não rejeitamos a hipótese nula: a distribuição da pressão arterial segue uma distribuição normal.\n"
          ]
        }
      ]
    },
    {
      "cell_type": "code",
      "source": [
        "# Criar o gráfico de distribuição (histograma + curva de densidade)\n",
        "plt.figure(figsize=(10, 6))\n",
        "sns.histplot(df_pacientes['Pressao_Arterial'], kde=True, bins=30, color='blue')\n",
        "\n",
        "# Configurar o título e rótulos\n",
        "plt.title('Distribuição da Pressão Arterial', fontsize=16)\n",
        "plt.xlabel('Pressão Arterial', fontsize=12)\n",
        "plt.ylabel('Frequência', fontsize=12)\n",
        "\n",
        "# Exibir o gráfico\n",
        "plt.show()"
      ],
      "metadata": {
        "id": "Uuq6KyS0nkbd",
        "outputId": "8c2d8af7-d398-49e2-8e9a-1f1ed8b6fede",
        "colab": {
          "base_uri": "https://localhost:8080/",
          "height": 570
        }
      },
      "execution_count": null,
      "outputs": [
        {
          "output_type": "display_data",
          "data": {
            "text/plain": [
              "<Figure size 1000x600 with 1 Axes>"
            ],
            "image/png": "[encoded data removed]"
          },
          "metadata": {}
        }
      ]
    }
  ]
}